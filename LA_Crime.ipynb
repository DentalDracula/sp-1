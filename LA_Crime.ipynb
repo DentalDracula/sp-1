{
 "cells": [
  {
   "cell_type": "markdown",
   "id": "c151e8c7",
   "metadata": {},
   "source": [
    "# LA Crime Data, 2012-2019\n",
    "\n",
    "Exploratory Data Analysis on this data set"
   ]
  },
  {
   "cell_type": "code",
   "execution_count": 66,
   "id": "d650eeaa",
   "metadata": {},
   "outputs": [],
   "source": [
    "import numpy as np \n",
    "import pandas as pd \n",
    "import matplotlib.pyplot as plt\n",
    "%matplotlib inline\n",
    "plt.style.use('seaborn')"
   ]
  },
  {
   "cell_type": "markdown",
   "id": "8edb6cdd",
   "metadata": {},
   "source": [
    "Data Download"
   ]
  },
  {
   "cell_type": "code",
   "execution_count": 67,
   "id": "c50f4169",
   "metadata": {},
   "outputs": [
    {
     "name": "stdout",
     "output_type": "stream",
     "text": [
      "Note: you may need to restart the kernel to use updated packages.\n"
     ]
    }
   ],
   "source": [
    "pip install opendatasets --upgrade --quiet"
   ]
  },
  {
   "cell_type": "code",
   "execution_count": 68,
   "id": "1e0ce458",
   "metadata": {},
   "outputs": [
    {
     "name": "stdout",
     "output_type": "stream",
     "text": [
      "Skipping, found downloaded files in \".\\crime-data-from-2020-to-present\" (use force=True to force download)\n"
     ]
    }
   ],
   "source": [
    "import opendatasets as od\n",
    "url =\"https://www.kaggle.com/datasets/chaitanyakck/crime-data-from-2020-to-present\"\n",
    "od.download(url)"
   ]
  },
  {
   "cell_type": "code",
   "execution_count": 69,
   "id": "60e843d4",
   "metadata": {},
   "outputs": [],
   "source": [
    "data_filename = \"./crime-data-from-2020-to-present/Crime_Data_from_2010_to_2019.csv\""
   ]
  },
  {
   "cell_type": "markdown",
   "id": "1fb4e4c2",
   "metadata": {},
   "source": [
    "Data Preparation and Cleaning"
   ]
  },
  {
   "cell_type": "code",
   "execution_count": 70,
   "id": "1ff2dba8",
   "metadata": {},
   "outputs": [],
   "source": [
    "import pandas as pd"
   ]
  },
  {
   "cell_type": "code",
   "execution_count": 71,
   "id": "5cf6d197",
   "metadata": {},
   "outputs": [],
   "source": [
    "df = pd.read_csv(data_filename)"
   ]
  },
  {
   "cell_type": "code",
   "execution_count": 72,
   "id": "5737f0a4",
   "metadata": {
    "scrolled": true
   },
   "outputs": [
    {
     "data": {
      "text/html": [
       "<div>\n",
       "<style scoped>\n",
       "    .dataframe tbody tr th:only-of-type {\n",
       "        vertical-align: middle;\n",
       "    }\n",
       "\n",
       "    .dataframe tbody tr th {\n",
       "        vertical-align: top;\n",
       "    }\n",
       "\n",
       "    .dataframe thead th {\n",
       "        text-align: right;\n",
       "    }\n",
       "</style>\n",
       "<table border=\"1\" class=\"dataframe\">\n",
       "  <thead>\n",
       "    <tr style=\"text-align: right;\">\n",
       "      <th></th>\n",
       "      <th>DR_NO</th>\n",
       "      <th>Date Rptd</th>\n",
       "      <th>DATE OCC</th>\n",
       "      <th>TIME OCC</th>\n",
       "      <th>AREA</th>\n",
       "      <th>AREA NAME</th>\n",
       "      <th>Rpt Dist No</th>\n",
       "      <th>Part 1-2</th>\n",
       "      <th>Crm Cd</th>\n",
       "      <th>Crm Cd Desc</th>\n",
       "      <th>...</th>\n",
       "      <th>Status</th>\n",
       "      <th>Status Desc</th>\n",
       "      <th>Crm Cd 1</th>\n",
       "      <th>Crm Cd 2</th>\n",
       "      <th>Crm Cd 3</th>\n",
       "      <th>Crm Cd 4</th>\n",
       "      <th>LOCATION</th>\n",
       "      <th>Cross Street</th>\n",
       "      <th>LAT</th>\n",
       "      <th>LON</th>\n",
       "    </tr>\n",
       "  </thead>\n",
       "  <tbody>\n",
       "    <tr>\n",
       "      <th>0</th>\n",
       "      <td>1307355</td>\n",
       "      <td>02/20/2010 12:00:00 AM</td>\n",
       "      <td>02/20/2010 12:00:00 AM</td>\n",
       "      <td>1350</td>\n",
       "      <td>13</td>\n",
       "      <td>Newton</td>\n",
       "      <td>1385</td>\n",
       "      <td>2</td>\n",
       "      <td>900</td>\n",
       "      <td>VIOLATION OF COURT ORDER</td>\n",
       "      <td>...</td>\n",
       "      <td>AA</td>\n",
       "      <td>Adult Arrest</td>\n",
       "      <td>900.0</td>\n",
       "      <td>NaN</td>\n",
       "      <td>NaN</td>\n",
       "      <td>NaN</td>\n",
       "      <td>300 E  GAGE                         AV</td>\n",
       "      <td>NaN</td>\n",
       "      <td>33.9825</td>\n",
       "      <td>-118.2695</td>\n",
       "    </tr>\n",
       "    <tr>\n",
       "      <th>1</th>\n",
       "      <td>11401303</td>\n",
       "      <td>09/13/2010 12:00:00 AM</td>\n",
       "      <td>09/12/2010 12:00:00 AM</td>\n",
       "      <td>45</td>\n",
       "      <td>14</td>\n",
       "      <td>Pacific</td>\n",
       "      <td>1485</td>\n",
       "      <td>2</td>\n",
       "      <td>740</td>\n",
       "      <td>VANDALISM - FELONY ($400 &amp; OVER, ALL CHURCH VA...</td>\n",
       "      <td>...</td>\n",
       "      <td>IC</td>\n",
       "      <td>Invest Cont</td>\n",
       "      <td>740.0</td>\n",
       "      <td>NaN</td>\n",
       "      <td>NaN</td>\n",
       "      <td>NaN</td>\n",
       "      <td>SEPULVEDA                    BL</td>\n",
       "      <td>MANCHESTER                   AV</td>\n",
       "      <td>33.9599</td>\n",
       "      <td>-118.3962</td>\n",
       "    </tr>\n",
       "    <tr>\n",
       "      <th>2</th>\n",
       "      <td>70309629</td>\n",
       "      <td>08/09/2010 12:00:00 AM</td>\n",
       "      <td>08/09/2010 12:00:00 AM</td>\n",
       "      <td>1515</td>\n",
       "      <td>13</td>\n",
       "      <td>Newton</td>\n",
       "      <td>1324</td>\n",
       "      <td>2</td>\n",
       "      <td>946</td>\n",
       "      <td>OTHER MISCELLANEOUS CRIME</td>\n",
       "      <td>...</td>\n",
       "      <td>IC</td>\n",
       "      <td>Invest Cont</td>\n",
       "      <td>946.0</td>\n",
       "      <td>NaN</td>\n",
       "      <td>NaN</td>\n",
       "      <td>NaN</td>\n",
       "      <td>1300 E  21ST                         ST</td>\n",
       "      <td>NaN</td>\n",
       "      <td>34.0224</td>\n",
       "      <td>-118.2524</td>\n",
       "    </tr>\n",
       "    <tr>\n",
       "      <th>3</th>\n",
       "      <td>90631215</td>\n",
       "      <td>01/05/2010 12:00:00 AM</td>\n",
       "      <td>01/05/2010 12:00:00 AM</td>\n",
       "      <td>150</td>\n",
       "      <td>6</td>\n",
       "      <td>Hollywood</td>\n",
       "      <td>646</td>\n",
       "      <td>2</td>\n",
       "      <td>900</td>\n",
       "      <td>VIOLATION OF COURT ORDER</td>\n",
       "      <td>...</td>\n",
       "      <td>IC</td>\n",
       "      <td>Invest Cont</td>\n",
       "      <td>900.0</td>\n",
       "      <td>998.0</td>\n",
       "      <td>NaN</td>\n",
       "      <td>NaN</td>\n",
       "      <td>CAHUENGA                     BL</td>\n",
       "      <td>HOLLYWOOD                    BL</td>\n",
       "      <td>34.1016</td>\n",
       "      <td>-118.3295</td>\n",
       "    </tr>\n",
       "    <tr>\n",
       "      <th>4</th>\n",
       "      <td>100100501</td>\n",
       "      <td>01/03/2010 12:00:00 AM</td>\n",
       "      <td>01/02/2010 12:00:00 AM</td>\n",
       "      <td>2100</td>\n",
       "      <td>1</td>\n",
       "      <td>Central</td>\n",
       "      <td>176</td>\n",
       "      <td>1</td>\n",
       "      <td>122</td>\n",
       "      <td>RAPE, ATTEMPTED</td>\n",
       "      <td>...</td>\n",
       "      <td>IC</td>\n",
       "      <td>Invest Cont</td>\n",
       "      <td>122.0</td>\n",
       "      <td>NaN</td>\n",
       "      <td>NaN</td>\n",
       "      <td>NaN</td>\n",
       "      <td>8TH                          ST</td>\n",
       "      <td>SAN PEDRO                    ST</td>\n",
       "      <td>34.0387</td>\n",
       "      <td>-118.2488</td>\n",
       "    </tr>\n",
       "    <tr>\n",
       "      <th>...</th>\n",
       "      <td>...</td>\n",
       "      <td>...</td>\n",
       "      <td>...</td>\n",
       "      <td>...</td>\n",
       "      <td>...</td>\n",
       "      <td>...</td>\n",
       "      <td>...</td>\n",
       "      <td>...</td>\n",
       "      <td>...</td>\n",
       "      <td>...</td>\n",
       "      <td>...</td>\n",
       "      <td>...</td>\n",
       "      <td>...</td>\n",
       "      <td>...</td>\n",
       "      <td>...</td>\n",
       "      <td>...</td>\n",
       "      <td>...</td>\n",
       "      <td>...</td>\n",
       "      <td>...</td>\n",
       "      <td>...</td>\n",
       "      <td>...</td>\n",
       "    </tr>\n",
       "    <tr>\n",
       "      <th>2118198</th>\n",
       "      <td>190608903</td>\n",
       "      <td>03/28/2019 12:00:00 AM</td>\n",
       "      <td>03/28/2019 12:00:00 AM</td>\n",
       "      <td>400</td>\n",
       "      <td>6</td>\n",
       "      <td>Hollywood</td>\n",
       "      <td>644</td>\n",
       "      <td>1</td>\n",
       "      <td>648</td>\n",
       "      <td>ARSON</td>\n",
       "      <td>...</td>\n",
       "      <td>IC</td>\n",
       "      <td>Invest Cont</td>\n",
       "      <td>648.0</td>\n",
       "      <td>NaN</td>\n",
       "      <td>NaN</td>\n",
       "      <td>NaN</td>\n",
       "      <td>1400 N  LA BREA                      AV</td>\n",
       "      <td>NaN</td>\n",
       "      <td>34.0962</td>\n",
       "      <td>-118.3490</td>\n",
       "    </tr>\n",
       "    <tr>\n",
       "      <th>2118199</th>\n",
       "      <td>190715222</td>\n",
       "      <td>08/15/2019 12:00:00 AM</td>\n",
       "      <td>08/14/2019 12:00:00 AM</td>\n",
       "      <td>1810</td>\n",
       "      <td>7</td>\n",
       "      <td>Wilshire</td>\n",
       "      <td>701</td>\n",
       "      <td>1</td>\n",
       "      <td>331</td>\n",
       "      <td>THEFT FROM MOTOR VEHICLE - GRAND ($400 AND OVER)</td>\n",
       "      <td>...</td>\n",
       "      <td>IC</td>\n",
       "      <td>Invest Cont</td>\n",
       "      <td>331.0</td>\n",
       "      <td>NaN</td>\n",
       "      <td>NaN</td>\n",
       "      <td>NaN</td>\n",
       "      <td>WILLOUGHBY                   AV</td>\n",
       "      <td>ORLANDO                      AV</td>\n",
       "      <td>34.0871</td>\n",
       "      <td>-118.3732</td>\n",
       "    </tr>\n",
       "    <tr>\n",
       "      <th>2118200</th>\n",
       "      <td>192004409</td>\n",
       "      <td>01/06/2019 12:00:00 AM</td>\n",
       "      <td>01/06/2019 12:00:00 AM</td>\n",
       "      <td>2100</td>\n",
       "      <td>20</td>\n",
       "      <td>Olympic</td>\n",
       "      <td>2029</td>\n",
       "      <td>2</td>\n",
       "      <td>930</td>\n",
       "      <td>CRIMINAL THREATS - NO WEAPON DISPLAYED</td>\n",
       "      <td>...</td>\n",
       "      <td>IC</td>\n",
       "      <td>Invest Cont</td>\n",
       "      <td>930.0</td>\n",
       "      <td>NaN</td>\n",
       "      <td>NaN</td>\n",
       "      <td>NaN</td>\n",
       "      <td>6TH</td>\n",
       "      <td>VIRGIL</td>\n",
       "      <td>34.0637</td>\n",
       "      <td>-118.2870</td>\n",
       "    </tr>\n",
       "    <tr>\n",
       "      <th>2118201</th>\n",
       "      <td>191716777</td>\n",
       "      <td>10/17/2019 12:00:00 AM</td>\n",
       "      <td>10/16/2019 12:00:00 AM</td>\n",
       "      <td>1800</td>\n",
       "      <td>17</td>\n",
       "      <td>Devonshire</td>\n",
       "      <td>1795</td>\n",
       "      <td>1</td>\n",
       "      <td>420</td>\n",
       "      <td>THEFT FROM MOTOR VEHICLE - PETTY ($950 &amp; UNDER)</td>\n",
       "      <td>...</td>\n",
       "      <td>IC</td>\n",
       "      <td>Invest Cont</td>\n",
       "      <td>420.0</td>\n",
       "      <td>NaN</td>\n",
       "      <td>NaN</td>\n",
       "      <td>NaN</td>\n",
       "      <td>17200    NAPA                         ST</td>\n",
       "      <td>NaN</td>\n",
       "      <td>34.2266</td>\n",
       "      <td>-118.5085</td>\n",
       "    </tr>\n",
       "    <tr>\n",
       "      <th>2118202</th>\n",
       "      <td>190805435</td>\n",
       "      <td>02/01/2019 12:00:00 AM</td>\n",
       "      <td>02/01/2019 12:00:00 AM</td>\n",
       "      <td>1615</td>\n",
       "      <td>8</td>\n",
       "      <td>West LA</td>\n",
       "      <td>852</td>\n",
       "      <td>1</td>\n",
       "      <td>330</td>\n",
       "      <td>BURGLARY FROM VEHICLE</td>\n",
       "      <td>...</td>\n",
       "      <td>IC</td>\n",
       "      <td>Invest Cont</td>\n",
       "      <td>330.0</td>\n",
       "      <td>NaN</td>\n",
       "      <td>NaN</td>\n",
       "      <td>NaN</td>\n",
       "      <td>1700    BARRY                        AV</td>\n",
       "      <td>NaN</td>\n",
       "      <td>34.0420</td>\n",
       "      <td>-118.4531</td>\n",
       "    </tr>\n",
       "  </tbody>\n",
       "</table>\n",
       "<p>2118203 rows × 28 columns</p>\n",
       "</div>"
      ],
      "text/plain": [
       "             DR_NO               Date Rptd                DATE OCC  TIME OCC  \\\n",
       "0          1307355  02/20/2010 12:00:00 AM  02/20/2010 12:00:00 AM      1350   \n",
       "1         11401303  09/13/2010 12:00:00 AM  09/12/2010 12:00:00 AM        45   \n",
       "2         70309629  08/09/2010 12:00:00 AM  08/09/2010 12:00:00 AM      1515   \n",
       "3         90631215  01/05/2010 12:00:00 AM  01/05/2010 12:00:00 AM       150   \n",
       "4        100100501  01/03/2010 12:00:00 AM  01/02/2010 12:00:00 AM      2100   \n",
       "...            ...                     ...                     ...       ...   \n",
       "2118198  190608903  03/28/2019 12:00:00 AM  03/28/2019 12:00:00 AM       400   \n",
       "2118199  190715222  08/15/2019 12:00:00 AM  08/14/2019 12:00:00 AM      1810   \n",
       "2118200  192004409  01/06/2019 12:00:00 AM  01/06/2019 12:00:00 AM      2100   \n",
       "2118201  191716777  10/17/2019 12:00:00 AM  10/16/2019 12:00:00 AM      1800   \n",
       "2118202  190805435  02/01/2019 12:00:00 AM  02/01/2019 12:00:00 AM      1615   \n",
       "\n",
       "         AREA    AREA NAME  Rpt Dist No  Part 1-2  Crm Cd  \\\n",
       "0           13      Newton         1385         2     900   \n",
       "1           14     Pacific         1485         2     740   \n",
       "2           13      Newton         1324         2     946   \n",
       "3            6   Hollywood          646         2     900   \n",
       "4            1     Central          176         1     122   \n",
       "...        ...         ...          ...       ...     ...   \n",
       "2118198      6   Hollywood          644         1     648   \n",
       "2118199      7    Wilshire          701         1     331   \n",
       "2118200     20     Olympic         2029         2     930   \n",
       "2118201     17  Devonshire         1795         1     420   \n",
       "2118202      8     West LA          852         1     330   \n",
       "\n",
       "                                               Crm Cd Desc  ... Status  \\\n",
       "0                                 VIOLATION OF COURT ORDER  ...     AA   \n",
       "1        VANDALISM - FELONY ($400 & OVER, ALL CHURCH VA...  ...     IC   \n",
       "2                                OTHER MISCELLANEOUS CRIME  ...     IC   \n",
       "3                                 VIOLATION OF COURT ORDER  ...     IC   \n",
       "4                                          RAPE, ATTEMPTED  ...     IC   \n",
       "...                                                    ...  ...    ...   \n",
       "2118198                                              ARSON  ...     IC   \n",
       "2118199   THEFT FROM MOTOR VEHICLE - GRAND ($400 AND OVER)  ...     IC   \n",
       "2118200             CRIMINAL THREATS - NO WEAPON DISPLAYED  ...     IC   \n",
       "2118201    THEFT FROM MOTOR VEHICLE - PETTY ($950 & UNDER)  ...     IC   \n",
       "2118202                              BURGLARY FROM VEHICLE  ...     IC   \n",
       "\n",
       "          Status Desc Crm Cd 1 Crm Cd 2  Crm Cd 3 Crm Cd 4  \\\n",
       "0        Adult Arrest    900.0      NaN       NaN      NaN   \n",
       "1         Invest Cont    740.0      NaN       NaN      NaN   \n",
       "2         Invest Cont    946.0      NaN       NaN      NaN   \n",
       "3         Invest Cont    900.0    998.0       NaN      NaN   \n",
       "4         Invest Cont    122.0      NaN       NaN      NaN   \n",
       "...               ...      ...      ...       ...      ...   \n",
       "2118198   Invest Cont    648.0      NaN       NaN      NaN   \n",
       "2118199   Invest Cont    331.0      NaN       NaN      NaN   \n",
       "2118200   Invest Cont    930.0      NaN       NaN      NaN   \n",
       "2118201   Invest Cont    420.0      NaN       NaN      NaN   \n",
       "2118202   Invest Cont    330.0      NaN       NaN      NaN   \n",
       "\n",
       "                                         LOCATION  \\\n",
       "0          300 E  GAGE                         AV   \n",
       "1                 SEPULVEDA                    BL   \n",
       "2         1300 E  21ST                         ST   \n",
       "3                 CAHUENGA                     BL   \n",
       "4                 8TH                          ST   \n",
       "...                                           ...   \n",
       "2118198   1400 N  LA BREA                      AV   \n",
       "2118199           WILLOUGHBY                   AV   \n",
       "2118200                                       6TH   \n",
       "2118201  17200    NAPA                         ST   \n",
       "2118202   1700    BARRY                        AV   \n",
       "\n",
       "                            Cross Street      LAT       LON  \n",
       "0                                    NaN  33.9825 -118.2695  \n",
       "1        MANCHESTER                   AV  33.9599 -118.3962  \n",
       "2                                    NaN  34.0224 -118.2524  \n",
       "3        HOLLYWOOD                    BL  34.1016 -118.3295  \n",
       "4        SAN PEDRO                    ST  34.0387 -118.2488  \n",
       "...                                  ...      ...       ...  \n",
       "2118198                              NaN  34.0962 -118.3490  \n",
       "2118199  ORLANDO                      AV  34.0871 -118.3732  \n",
       "2118200                           VIRGIL  34.0637 -118.2870  \n",
       "2118201                              NaN  34.2266 -118.5085  \n",
       "2118202                              NaN  34.0420 -118.4531  \n",
       "\n",
       "[2118203 rows x 28 columns]"
      ]
     },
     "execution_count": 72,
     "metadata": {},
     "output_type": "execute_result"
    }
   ],
   "source": [
    "df"
   ]
  },
  {
   "cell_type": "code",
   "execution_count": 73,
   "id": "9cadb11b",
   "metadata": {},
   "outputs": [
    {
     "data": {
      "text/plain": [
       "Index(['DR_NO', 'Date Rptd', 'DATE OCC', 'TIME OCC', 'AREA ', 'AREA NAME',\n",
       "       'Rpt Dist No', 'Part 1-2', 'Crm Cd', 'Crm Cd Desc', 'Mocodes',\n",
       "       'Vict Age', 'Vict Sex', 'Vict Descent', 'Premis Cd', 'Premis Desc',\n",
       "       'Weapon Used Cd', 'Weapon Desc', 'Status', 'Status Desc', 'Crm Cd 1',\n",
       "       'Crm Cd 2', 'Crm Cd 3', 'Crm Cd 4', 'LOCATION', 'Cross Street', 'LAT',\n",
       "       'LON'],\n",
       "      dtype='object')"
      ]
     },
     "execution_count": 73,
     "metadata": {},
     "output_type": "execute_result"
    }
   ],
   "source": [
    "df.columns"
   ]
  },
  {
   "cell_type": "code",
   "execution_count": 74,
   "id": "c1ac3fbb",
   "metadata": {},
   "outputs": [
    {
     "data": {
      "text/plain": [
       "<bound method DataFrame.info of              DR_NO               Date Rptd                DATE OCC  TIME OCC  \\\n",
       "0          1307355  02/20/2010 12:00:00 AM  02/20/2010 12:00:00 AM      1350   \n",
       "1         11401303  09/13/2010 12:00:00 AM  09/12/2010 12:00:00 AM        45   \n",
       "2         70309629  08/09/2010 12:00:00 AM  08/09/2010 12:00:00 AM      1515   \n",
       "3         90631215  01/05/2010 12:00:00 AM  01/05/2010 12:00:00 AM       150   \n",
       "4        100100501  01/03/2010 12:00:00 AM  01/02/2010 12:00:00 AM      2100   \n",
       "...            ...                     ...                     ...       ...   \n",
       "2118198  190608903  03/28/2019 12:00:00 AM  03/28/2019 12:00:00 AM       400   \n",
       "2118199  190715222  08/15/2019 12:00:00 AM  08/14/2019 12:00:00 AM      1810   \n",
       "2118200  192004409  01/06/2019 12:00:00 AM  01/06/2019 12:00:00 AM      2100   \n",
       "2118201  191716777  10/17/2019 12:00:00 AM  10/16/2019 12:00:00 AM      1800   \n",
       "2118202  190805435  02/01/2019 12:00:00 AM  02/01/2019 12:00:00 AM      1615   \n",
       "\n",
       "         AREA    AREA NAME  Rpt Dist No  Part 1-2  Crm Cd  \\\n",
       "0           13      Newton         1385         2     900   \n",
       "1           14     Pacific         1485         2     740   \n",
       "2           13      Newton         1324         2     946   \n",
       "3            6   Hollywood          646         2     900   \n",
       "4            1     Central          176         1     122   \n",
       "...        ...         ...          ...       ...     ...   \n",
       "2118198      6   Hollywood          644         1     648   \n",
       "2118199      7    Wilshire          701         1     331   \n",
       "2118200     20     Olympic         2029         2     930   \n",
       "2118201     17  Devonshire         1795         1     420   \n",
       "2118202      8     West LA          852         1     330   \n",
       "\n",
       "                                               Crm Cd Desc  ... Status  \\\n",
       "0                                 VIOLATION OF COURT ORDER  ...     AA   \n",
       "1        VANDALISM - FELONY ($400 & OVER, ALL CHURCH VA...  ...     IC   \n",
       "2                                OTHER MISCELLANEOUS CRIME  ...     IC   \n",
       "3                                 VIOLATION OF COURT ORDER  ...     IC   \n",
       "4                                          RAPE, ATTEMPTED  ...     IC   \n",
       "...                                                    ...  ...    ...   \n",
       "2118198                                              ARSON  ...     IC   \n",
       "2118199   THEFT FROM MOTOR VEHICLE - GRAND ($400 AND OVER)  ...     IC   \n",
       "2118200             CRIMINAL THREATS - NO WEAPON DISPLAYED  ...     IC   \n",
       "2118201    THEFT FROM MOTOR VEHICLE - PETTY ($950 & UNDER)  ...     IC   \n",
       "2118202                              BURGLARY FROM VEHICLE  ...     IC   \n",
       "\n",
       "          Status Desc Crm Cd 1 Crm Cd 2  Crm Cd 3 Crm Cd 4  \\\n",
       "0        Adult Arrest    900.0      NaN       NaN      NaN   \n",
       "1         Invest Cont    740.0      NaN       NaN      NaN   \n",
       "2         Invest Cont    946.0      NaN       NaN      NaN   \n",
       "3         Invest Cont    900.0    998.0       NaN      NaN   \n",
       "4         Invest Cont    122.0      NaN       NaN      NaN   \n",
       "...               ...      ...      ...       ...      ...   \n",
       "2118198   Invest Cont    648.0      NaN       NaN      NaN   \n",
       "2118199   Invest Cont    331.0      NaN       NaN      NaN   \n",
       "2118200   Invest Cont    930.0      NaN       NaN      NaN   \n",
       "2118201   Invest Cont    420.0      NaN       NaN      NaN   \n",
       "2118202   Invest Cont    330.0      NaN       NaN      NaN   \n",
       "\n",
       "                                         LOCATION  \\\n",
       "0          300 E  GAGE                         AV   \n",
       "1                 SEPULVEDA                    BL   \n",
       "2         1300 E  21ST                         ST   \n",
       "3                 CAHUENGA                     BL   \n",
       "4                 8TH                          ST   \n",
       "...                                           ...   \n",
       "2118198   1400 N  LA BREA                      AV   \n",
       "2118199           WILLOUGHBY                   AV   \n",
       "2118200                                       6TH   \n",
       "2118201  17200    NAPA                         ST   \n",
       "2118202   1700    BARRY                        AV   \n",
       "\n",
       "                            Cross Street      LAT       LON  \n",
       "0                                    NaN  33.9825 -118.2695  \n",
       "1        MANCHESTER                   AV  33.9599 -118.3962  \n",
       "2                                    NaN  34.0224 -118.2524  \n",
       "3        HOLLYWOOD                    BL  34.1016 -118.3295  \n",
       "4        SAN PEDRO                    ST  34.0387 -118.2488  \n",
       "...                                  ...      ...       ...  \n",
       "2118198                              NaN  34.0962 -118.3490  \n",
       "2118199  ORLANDO                      AV  34.0871 -118.3732  \n",
       "2118200                           VIRGIL  34.0637 -118.2870  \n",
       "2118201                              NaN  34.2266 -118.5085  \n",
       "2118202                              NaN  34.0420 -118.4531  \n",
       "\n",
       "[2118203 rows x 28 columns]>"
      ]
     },
     "execution_count": 74,
     "metadata": {},
     "output_type": "execute_result"
    }
   ],
   "source": [
    "df.info"
   ]
  },
  {
   "cell_type": "code",
   "execution_count": 75,
   "id": "cc9e80d2",
   "metadata": {},
   "outputs": [
    {
     "data": {
      "text/html": [
       "<div>\n",
       "<style scoped>\n",
       "    .dataframe tbody tr th:only-of-type {\n",
       "        vertical-align: middle;\n",
       "    }\n",
       "\n",
       "    .dataframe tbody tr th {\n",
       "        vertical-align: top;\n",
       "    }\n",
       "\n",
       "    .dataframe thead th {\n",
       "        text-align: right;\n",
       "    }\n",
       "</style>\n",
       "<table border=\"1\" class=\"dataframe\">\n",
       "  <thead>\n",
       "    <tr style=\"text-align: right;\">\n",
       "      <th></th>\n",
       "      <th>DR_NO</th>\n",
       "      <th>TIME OCC</th>\n",
       "      <th>AREA</th>\n",
       "      <th>Rpt Dist No</th>\n",
       "      <th>Part 1-2</th>\n",
       "      <th>Crm Cd</th>\n",
       "      <th>Vict Age</th>\n",
       "      <th>Premis Cd</th>\n",
       "      <th>Weapon Used Cd</th>\n",
       "      <th>Crm Cd 1</th>\n",
       "      <th>Crm Cd 2</th>\n",
       "      <th>Crm Cd 3</th>\n",
       "      <th>Crm Cd 4</th>\n",
       "      <th>LAT</th>\n",
       "      <th>LON</th>\n",
       "    </tr>\n",
       "  </thead>\n",
       "  <tbody>\n",
       "    <tr>\n",
       "      <th>count</th>\n",
       "      <td>2.118203e+06</td>\n",
       "      <td>2.118203e+06</td>\n",
       "      <td>2.118203e+06</td>\n",
       "      <td>2.118203e+06</td>\n",
       "      <td>2.118203e+06</td>\n",
       "      <td>2.118203e+06</td>\n",
       "      <td>2.118203e+06</td>\n",
       "      <td>2.118150e+06</td>\n",
       "      <td>711641.000000</td>\n",
       "      <td>2.118193e+06</td>\n",
       "      <td>140098.000000</td>\n",
       "      <td>3526.000000</td>\n",
       "      <td>104.000000</td>\n",
       "      <td>2.118203e+06</td>\n",
       "      <td>2.118203e+06</td>\n",
       "    </tr>\n",
       "    <tr>\n",
       "      <th>mean</th>\n",
       "      <td>1.480021e+08</td>\n",
       "      <td>1.359503e+03</td>\n",
       "      <td>1.108711e+01</td>\n",
       "      <td>1.155098e+03</td>\n",
       "      <td>1.446406e+00</td>\n",
       "      <td>5.073524e+02</td>\n",
       "      <td>3.175852e+01</td>\n",
       "      <td>3.114901e+02</td>\n",
       "      <td>371.422145</td>\n",
       "      <td>5.071754e+02</td>\n",
       "      <td>949.481113</td>\n",
       "      <td>972.173001</td>\n",
       "      <td>975.105769</td>\n",
       "      <td>3.406360e+01</td>\n",
       "      <td>-1.183082e+02</td>\n",
       "    </tr>\n",
       "    <tr>\n",
       "      <th>std</th>\n",
       "      <td>2.893566e+07</td>\n",
       "      <td>6.471503e+02</td>\n",
       "      <td>6.012384e+00</td>\n",
       "      <td>6.012536e+02</td>\n",
       "      <td>4.971195e-01</td>\n",
       "      <td>2.106854e+02</td>\n",
       "      <td>2.064772e+01</td>\n",
       "      <td>2.114265e+02</td>\n",
       "      <td>113.397055</td>\n",
       "      <td>2.105467e+02</td>\n",
       "      <td>125.664070</td>\n",
       "      <td>85.495151</td>\n",
       "      <td>81.276338</td>\n",
       "      <td>7.160324e-01</td>\n",
       "      <td>2.456345e+00</td>\n",
       "    </tr>\n",
       "    <tr>\n",
       "      <th>min</th>\n",
       "      <td>1.208575e+06</td>\n",
       "      <td>1.000000e+00</td>\n",
       "      <td>1.000000e+00</td>\n",
       "      <td>1.000000e+02</td>\n",
       "      <td>1.000000e+00</td>\n",
       "      <td>1.100000e+02</td>\n",
       "      <td>-1.100000e+01</td>\n",
       "      <td>1.010000e+02</td>\n",
       "      <td>101.000000</td>\n",
       "      <td>1.100000e+02</td>\n",
       "      <td>122.000000</td>\n",
       "      <td>93.000000</td>\n",
       "      <td>421.000000</td>\n",
       "      <td>0.000000e+00</td>\n",
       "      <td>-1.188279e+02</td>\n",
       "    </tr>\n",
       "    <tr>\n",
       "      <th>25%</th>\n",
       "      <td>1.214262e+08</td>\n",
       "      <td>9.300000e+02</td>\n",
       "      <td>6.000000e+00</td>\n",
       "      <td>6.430000e+02</td>\n",
       "      <td>1.000000e+00</td>\n",
       "      <td>3.300000e+02</td>\n",
       "      <td>2.000000e+01</td>\n",
       "      <td>1.020000e+02</td>\n",
       "      <td>400.000000</td>\n",
       "      <td>3.300000e+02</td>\n",
       "      <td>998.000000</td>\n",
       "      <td>998.000000</td>\n",
       "      <td>998.000000</td>\n",
       "      <td>3.401050e+01</td>\n",
       "      <td>-1.184365e+02</td>\n",
       "    </tr>\n",
       "    <tr>\n",
       "      <th>50%</th>\n",
       "      <td>1.508112e+08</td>\n",
       "      <td>1.430000e+03</td>\n",
       "      <td>1.100000e+01</td>\n",
       "      <td>1.189000e+03</td>\n",
       "      <td>1.000000e+00</td>\n",
       "      <td>4.420000e+02</td>\n",
       "      <td>3.200000e+01</td>\n",
       "      <td>2.100000e+02</td>\n",
       "      <td>400.000000</td>\n",
       "      <td>4.420000e+02</td>\n",
       "      <td>998.000000</td>\n",
       "      <td>998.000000</td>\n",
       "      <td>998.000000</td>\n",
       "      <td>3.406230e+01</td>\n",
       "      <td>-1.183295e+02</td>\n",
       "    </tr>\n",
       "    <tr>\n",
       "      <th>75%</th>\n",
       "      <td>1.715155e+08</td>\n",
       "      <td>1.900000e+03</td>\n",
       "      <td>1.600000e+01</td>\n",
       "      <td>1.668000e+03</td>\n",
       "      <td>2.000000e+00</td>\n",
       "      <td>6.260000e+02</td>\n",
       "      <td>4.600000e+01</td>\n",
       "      <td>5.010000e+02</td>\n",
       "      <td>400.000000</td>\n",
       "      <td>6.260000e+02</td>\n",
       "      <td>998.000000</td>\n",
       "      <td>998.000000</td>\n",
       "      <td>998.000000</td>\n",
       "      <td>3.417580e+01</td>\n",
       "      <td>-1.182778e+02</td>\n",
       "    </tr>\n",
       "    <tr>\n",
       "      <th>max</th>\n",
       "      <td>9.102204e+08</td>\n",
       "      <td>2.359000e+03</td>\n",
       "      <td>2.100000e+01</td>\n",
       "      <td>2.199000e+03</td>\n",
       "      <td>2.000000e+00</td>\n",
       "      <td>9.560000e+02</td>\n",
       "      <td>1.180000e+02</td>\n",
       "      <td>9.710000e+02</td>\n",
       "      <td>516.000000</td>\n",
       "      <td>9.990000e+02</td>\n",
       "      <td>999.000000</td>\n",
       "      <td>999.000000</td>\n",
       "      <td>999.000000</td>\n",
       "      <td>3.479070e+01</td>\n",
       "      <td>0.000000e+00</td>\n",
       "    </tr>\n",
       "  </tbody>\n",
       "</table>\n",
       "</div>"
      ],
      "text/plain": [
       "              DR_NO      TIME OCC         AREA    Rpt Dist No      Part 1-2  \\\n",
       "count  2.118203e+06  2.118203e+06  2.118203e+06  2.118203e+06  2.118203e+06   \n",
       "mean   1.480021e+08  1.359503e+03  1.108711e+01  1.155098e+03  1.446406e+00   \n",
       "std    2.893566e+07  6.471503e+02  6.012384e+00  6.012536e+02  4.971195e-01   \n",
       "min    1.208575e+06  1.000000e+00  1.000000e+00  1.000000e+02  1.000000e+00   \n",
       "25%    1.214262e+08  9.300000e+02  6.000000e+00  6.430000e+02  1.000000e+00   \n",
       "50%    1.508112e+08  1.430000e+03  1.100000e+01  1.189000e+03  1.000000e+00   \n",
       "75%    1.715155e+08  1.900000e+03  1.600000e+01  1.668000e+03  2.000000e+00   \n",
       "max    9.102204e+08  2.359000e+03  2.100000e+01  2.199000e+03  2.000000e+00   \n",
       "\n",
       "             Crm Cd      Vict Age     Premis Cd  Weapon Used Cd      Crm Cd 1  \\\n",
       "count  2.118203e+06  2.118203e+06  2.118150e+06   711641.000000  2.118193e+06   \n",
       "mean   5.073524e+02  3.175852e+01  3.114901e+02      371.422145  5.071754e+02   \n",
       "std    2.106854e+02  2.064772e+01  2.114265e+02      113.397055  2.105467e+02   \n",
       "min    1.100000e+02 -1.100000e+01  1.010000e+02      101.000000  1.100000e+02   \n",
       "25%    3.300000e+02  2.000000e+01  1.020000e+02      400.000000  3.300000e+02   \n",
       "50%    4.420000e+02  3.200000e+01  2.100000e+02      400.000000  4.420000e+02   \n",
       "75%    6.260000e+02  4.600000e+01  5.010000e+02      400.000000  6.260000e+02   \n",
       "max    9.560000e+02  1.180000e+02  9.710000e+02      516.000000  9.990000e+02   \n",
       "\n",
       "            Crm Cd 2     Crm Cd 3    Crm Cd 4           LAT           LON  \n",
       "count  140098.000000  3526.000000  104.000000  2.118203e+06  2.118203e+06  \n",
       "mean      949.481113   972.173001  975.105769  3.406360e+01 -1.183082e+02  \n",
       "std       125.664070    85.495151   81.276338  7.160324e-01  2.456345e+00  \n",
       "min       122.000000    93.000000  421.000000  0.000000e+00 -1.188279e+02  \n",
       "25%       998.000000   998.000000  998.000000  3.401050e+01 -1.184365e+02  \n",
       "50%       998.000000   998.000000  998.000000  3.406230e+01 -1.183295e+02  \n",
       "75%       998.000000   998.000000  998.000000  3.417580e+01 -1.182778e+02  \n",
       "max       999.000000   999.000000  999.000000  3.479070e+01  0.000000e+00  "
      ]
     },
     "execution_count": 75,
     "metadata": {},
     "output_type": "execute_result"
    }
   ],
   "source": [
    "df.describe()"
   ]
  },
  {
   "cell_type": "code",
   "execution_count": 76,
   "id": "7a75bdf6",
   "metadata": {},
   "outputs": [
    {
     "data": {
      "text/plain": [
       "15"
      ]
     },
     "execution_count": 76,
     "metadata": {},
     "output_type": "execute_result"
    }
   ],
   "source": [
    "numerics = ['int16', 'int32', 'int64','float16' , 'float32', 'float64']\n",
    "\n",
    "numeric_df = df.select_dtypes(include=numerics)\n",
    "len(numeric_df.columns)"
   ]
  },
  {
   "cell_type": "code",
   "execution_count": 77,
   "id": "1f79099e",
   "metadata": {},
   "outputs": [
    {
     "data": {
      "text/html": [
       "<div>\n",
       "<style scoped>\n",
       "    .dataframe tbody tr th:only-of-type {\n",
       "        vertical-align: middle;\n",
       "    }\n",
       "\n",
       "    .dataframe tbody tr th {\n",
       "        vertical-align: top;\n",
       "    }\n",
       "\n",
       "    .dataframe thead th {\n",
       "        text-align: right;\n",
       "    }\n",
       "</style>\n",
       "<table border=\"1\" class=\"dataframe\">\n",
       "  <thead>\n",
       "    <tr style=\"text-align: right;\">\n",
       "      <th></th>\n",
       "      <th>DR_NO</th>\n",
       "      <th>Date Rptd</th>\n",
       "      <th>DATE OCC</th>\n",
       "      <th>TIME OCC</th>\n",
       "      <th>AREA</th>\n",
       "      <th>AREA NAME</th>\n",
       "      <th>Rpt Dist No</th>\n",
       "      <th>Part 1-2</th>\n",
       "      <th>Crm Cd</th>\n",
       "      <th>Crm Cd Desc</th>\n",
       "      <th>...</th>\n",
       "      <th>Status</th>\n",
       "      <th>Status Desc</th>\n",
       "      <th>Crm Cd 1</th>\n",
       "      <th>Crm Cd 2</th>\n",
       "      <th>Crm Cd 3</th>\n",
       "      <th>Crm Cd 4</th>\n",
       "      <th>LOCATION</th>\n",
       "      <th>Cross Street</th>\n",
       "      <th>LAT</th>\n",
       "      <th>LON</th>\n",
       "    </tr>\n",
       "  </thead>\n",
       "  <tbody>\n",
       "    <tr>\n",
       "      <th>0</th>\n",
       "      <td>False</td>\n",
       "      <td>False</td>\n",
       "      <td>False</td>\n",
       "      <td>False</td>\n",
       "      <td>False</td>\n",
       "      <td>False</td>\n",
       "      <td>False</td>\n",
       "      <td>False</td>\n",
       "      <td>False</td>\n",
       "      <td>False</td>\n",
       "      <td>...</td>\n",
       "      <td>False</td>\n",
       "      <td>False</td>\n",
       "      <td>False</td>\n",
       "      <td>True</td>\n",
       "      <td>True</td>\n",
       "      <td>True</td>\n",
       "      <td>False</td>\n",
       "      <td>True</td>\n",
       "      <td>False</td>\n",
       "      <td>False</td>\n",
       "    </tr>\n",
       "    <tr>\n",
       "      <th>1</th>\n",
       "      <td>False</td>\n",
       "      <td>False</td>\n",
       "      <td>False</td>\n",
       "      <td>False</td>\n",
       "      <td>False</td>\n",
       "      <td>False</td>\n",
       "      <td>False</td>\n",
       "      <td>False</td>\n",
       "      <td>False</td>\n",
       "      <td>False</td>\n",
       "      <td>...</td>\n",
       "      <td>False</td>\n",
       "      <td>False</td>\n",
       "      <td>False</td>\n",
       "      <td>True</td>\n",
       "      <td>True</td>\n",
       "      <td>True</td>\n",
       "      <td>False</td>\n",
       "      <td>False</td>\n",
       "      <td>False</td>\n",
       "      <td>False</td>\n",
       "    </tr>\n",
       "    <tr>\n",
       "      <th>2</th>\n",
       "      <td>False</td>\n",
       "      <td>False</td>\n",
       "      <td>False</td>\n",
       "      <td>False</td>\n",
       "      <td>False</td>\n",
       "      <td>False</td>\n",
       "      <td>False</td>\n",
       "      <td>False</td>\n",
       "      <td>False</td>\n",
       "      <td>False</td>\n",
       "      <td>...</td>\n",
       "      <td>False</td>\n",
       "      <td>False</td>\n",
       "      <td>False</td>\n",
       "      <td>True</td>\n",
       "      <td>True</td>\n",
       "      <td>True</td>\n",
       "      <td>False</td>\n",
       "      <td>True</td>\n",
       "      <td>False</td>\n",
       "      <td>False</td>\n",
       "    </tr>\n",
       "    <tr>\n",
       "      <th>3</th>\n",
       "      <td>False</td>\n",
       "      <td>False</td>\n",
       "      <td>False</td>\n",
       "      <td>False</td>\n",
       "      <td>False</td>\n",
       "      <td>False</td>\n",
       "      <td>False</td>\n",
       "      <td>False</td>\n",
       "      <td>False</td>\n",
       "      <td>False</td>\n",
       "      <td>...</td>\n",
       "      <td>False</td>\n",
       "      <td>False</td>\n",
       "      <td>False</td>\n",
       "      <td>False</td>\n",
       "      <td>True</td>\n",
       "      <td>True</td>\n",
       "      <td>False</td>\n",
       "      <td>False</td>\n",
       "      <td>False</td>\n",
       "      <td>False</td>\n",
       "    </tr>\n",
       "    <tr>\n",
       "      <th>4</th>\n",
       "      <td>False</td>\n",
       "      <td>False</td>\n",
       "      <td>False</td>\n",
       "      <td>False</td>\n",
       "      <td>False</td>\n",
       "      <td>False</td>\n",
       "      <td>False</td>\n",
       "      <td>False</td>\n",
       "      <td>False</td>\n",
       "      <td>False</td>\n",
       "      <td>...</td>\n",
       "      <td>False</td>\n",
       "      <td>False</td>\n",
       "      <td>False</td>\n",
       "      <td>True</td>\n",
       "      <td>True</td>\n",
       "      <td>True</td>\n",
       "      <td>False</td>\n",
       "      <td>False</td>\n",
       "      <td>False</td>\n",
       "      <td>False</td>\n",
       "    </tr>\n",
       "    <tr>\n",
       "      <th>...</th>\n",
       "      <td>...</td>\n",
       "      <td>...</td>\n",
       "      <td>...</td>\n",
       "      <td>...</td>\n",
       "      <td>...</td>\n",
       "      <td>...</td>\n",
       "      <td>...</td>\n",
       "      <td>...</td>\n",
       "      <td>...</td>\n",
       "      <td>...</td>\n",
       "      <td>...</td>\n",
       "      <td>...</td>\n",
       "      <td>...</td>\n",
       "      <td>...</td>\n",
       "      <td>...</td>\n",
       "      <td>...</td>\n",
       "      <td>...</td>\n",
       "      <td>...</td>\n",
       "      <td>...</td>\n",
       "      <td>...</td>\n",
       "      <td>...</td>\n",
       "    </tr>\n",
       "    <tr>\n",
       "      <th>2118198</th>\n",
       "      <td>False</td>\n",
       "      <td>False</td>\n",
       "      <td>False</td>\n",
       "      <td>False</td>\n",
       "      <td>False</td>\n",
       "      <td>False</td>\n",
       "      <td>False</td>\n",
       "      <td>False</td>\n",
       "      <td>False</td>\n",
       "      <td>False</td>\n",
       "      <td>...</td>\n",
       "      <td>False</td>\n",
       "      <td>False</td>\n",
       "      <td>False</td>\n",
       "      <td>True</td>\n",
       "      <td>True</td>\n",
       "      <td>True</td>\n",
       "      <td>False</td>\n",
       "      <td>True</td>\n",
       "      <td>False</td>\n",
       "      <td>False</td>\n",
       "    </tr>\n",
       "    <tr>\n",
       "      <th>2118199</th>\n",
       "      <td>False</td>\n",
       "      <td>False</td>\n",
       "      <td>False</td>\n",
       "      <td>False</td>\n",
       "      <td>False</td>\n",
       "      <td>False</td>\n",
       "      <td>False</td>\n",
       "      <td>False</td>\n",
       "      <td>False</td>\n",
       "      <td>False</td>\n",
       "      <td>...</td>\n",
       "      <td>False</td>\n",
       "      <td>False</td>\n",
       "      <td>False</td>\n",
       "      <td>True</td>\n",
       "      <td>True</td>\n",
       "      <td>True</td>\n",
       "      <td>False</td>\n",
       "      <td>False</td>\n",
       "      <td>False</td>\n",
       "      <td>False</td>\n",
       "    </tr>\n",
       "    <tr>\n",
       "      <th>2118200</th>\n",
       "      <td>False</td>\n",
       "      <td>False</td>\n",
       "      <td>False</td>\n",
       "      <td>False</td>\n",
       "      <td>False</td>\n",
       "      <td>False</td>\n",
       "      <td>False</td>\n",
       "      <td>False</td>\n",
       "      <td>False</td>\n",
       "      <td>False</td>\n",
       "      <td>...</td>\n",
       "      <td>False</td>\n",
       "      <td>False</td>\n",
       "      <td>False</td>\n",
       "      <td>True</td>\n",
       "      <td>True</td>\n",
       "      <td>True</td>\n",
       "      <td>False</td>\n",
       "      <td>False</td>\n",
       "      <td>False</td>\n",
       "      <td>False</td>\n",
       "    </tr>\n",
       "    <tr>\n",
       "      <th>2118201</th>\n",
       "      <td>False</td>\n",
       "      <td>False</td>\n",
       "      <td>False</td>\n",
       "      <td>False</td>\n",
       "      <td>False</td>\n",
       "      <td>False</td>\n",
       "      <td>False</td>\n",
       "      <td>False</td>\n",
       "      <td>False</td>\n",
       "      <td>False</td>\n",
       "      <td>...</td>\n",
       "      <td>False</td>\n",
       "      <td>False</td>\n",
       "      <td>False</td>\n",
       "      <td>True</td>\n",
       "      <td>True</td>\n",
       "      <td>True</td>\n",
       "      <td>False</td>\n",
       "      <td>True</td>\n",
       "      <td>False</td>\n",
       "      <td>False</td>\n",
       "    </tr>\n",
       "    <tr>\n",
       "      <th>2118202</th>\n",
       "      <td>False</td>\n",
       "      <td>False</td>\n",
       "      <td>False</td>\n",
       "      <td>False</td>\n",
       "      <td>False</td>\n",
       "      <td>False</td>\n",
       "      <td>False</td>\n",
       "      <td>False</td>\n",
       "      <td>False</td>\n",
       "      <td>False</td>\n",
       "      <td>...</td>\n",
       "      <td>False</td>\n",
       "      <td>False</td>\n",
       "      <td>False</td>\n",
       "      <td>True</td>\n",
       "      <td>True</td>\n",
       "      <td>True</td>\n",
       "      <td>False</td>\n",
       "      <td>True</td>\n",
       "      <td>False</td>\n",
       "      <td>False</td>\n",
       "    </tr>\n",
       "  </tbody>\n",
       "</table>\n",
       "<p>2118203 rows × 28 columns</p>\n",
       "</div>"
      ],
      "text/plain": [
       "         DR_NO  Date Rptd  DATE OCC  TIME OCC  AREA   AREA NAME  Rpt Dist No  \\\n",
       "0        False      False     False     False  False      False        False   \n",
       "1        False      False     False     False  False      False        False   \n",
       "2        False      False     False     False  False      False        False   \n",
       "3        False      False     False     False  False      False        False   \n",
       "4        False      False     False     False  False      False        False   \n",
       "...        ...        ...       ...       ...    ...        ...          ...   \n",
       "2118198  False      False     False     False  False      False        False   \n",
       "2118199  False      False     False     False  False      False        False   \n",
       "2118200  False      False     False     False  False      False        False   \n",
       "2118201  False      False     False     False  False      False        False   \n",
       "2118202  False      False     False     False  False      False        False   \n",
       "\n",
       "         Part 1-2  Crm Cd  Crm Cd Desc  ...  Status  Status Desc  Crm Cd 1  \\\n",
       "0           False   False        False  ...   False        False     False   \n",
       "1           False   False        False  ...   False        False     False   \n",
       "2           False   False        False  ...   False        False     False   \n",
       "3           False   False        False  ...   False        False     False   \n",
       "4           False   False        False  ...   False        False     False   \n",
       "...           ...     ...          ...  ...     ...          ...       ...   \n",
       "2118198     False   False        False  ...   False        False     False   \n",
       "2118199     False   False        False  ...   False        False     False   \n",
       "2118200     False   False        False  ...   False        False     False   \n",
       "2118201     False   False        False  ...   False        False     False   \n",
       "2118202     False   False        False  ...   False        False     False   \n",
       "\n",
       "         Crm Cd 2  Crm Cd 3  Crm Cd 4  LOCATION  Cross Street    LAT    LON  \n",
       "0            True      True      True     False          True  False  False  \n",
       "1            True      True      True     False         False  False  False  \n",
       "2            True      True      True     False          True  False  False  \n",
       "3           False      True      True     False         False  False  False  \n",
       "4            True      True      True     False         False  False  False  \n",
       "...           ...       ...       ...       ...           ...    ...    ...  \n",
       "2118198      True      True      True     False          True  False  False  \n",
       "2118199      True      True      True     False         False  False  False  \n",
       "2118200      True      True      True     False         False  False  False  \n",
       "2118201      True      True      True     False          True  False  False  \n",
       "2118202      True      True      True     False          True  False  False  \n",
       "\n",
       "[2118203 rows x 28 columns]"
      ]
     },
     "execution_count": 77,
     "metadata": {},
     "output_type": "execute_result"
    }
   ],
   "source": [
    "df.isna()"
   ]
  },
  {
   "cell_type": "code",
   "execution_count": 78,
   "id": "9a359102",
   "metadata": {},
   "outputs": [
    {
     "data": {
      "text/plain": [
       "Crm Cd 4          0.999951\n",
       "Crm Cd 3          0.998335\n",
       "Crm Cd 2          0.933860\n",
       "Cross Street      0.832156\n",
       "Weapon Desc       0.664036\n",
       "Weapon Used Cd    0.664036\n",
       "Mocodes           0.107724\n",
       "Vict Descent      0.092898\n",
       "Vict Sex          0.092876\n",
       "Premis Desc       0.000088\n",
       "Premis Cd         0.000025\n",
       "Crm Cd 1          0.000005\n",
       "Status            0.000001\n",
       "LAT               0.000000\n",
       "LOCATION          0.000000\n",
       "Status Desc       0.000000\n",
       "DR_NO             0.000000\n",
       "Date Rptd         0.000000\n",
       "Vict Age          0.000000\n",
       "Crm Cd Desc       0.000000\n",
       "Crm Cd            0.000000\n",
       "Part 1-2          0.000000\n",
       "Rpt Dist No       0.000000\n",
       "AREA NAME         0.000000\n",
       "AREA              0.000000\n",
       "TIME OCC          0.000000\n",
       "DATE OCC          0.000000\n",
       "LON               0.000000\n",
       "dtype: float64"
      ]
     },
     "execution_count": 78,
     "metadata": {},
     "output_type": "execute_result"
    }
   ],
   "source": [
    "missing_percentages = df.isna().sum().sort_values(ascending=False)/len(df)\n",
    "missing_percentages"
   ]
  },
  {
   "cell_type": "code",
   "execution_count": 79,
   "id": "49dc7a01",
   "metadata": {},
   "outputs": [
    {
     "data": {
      "text/plain": [
       "Crm Cd 4          0.999951\n",
       "Crm Cd 3          0.998335\n",
       "Crm Cd 2          0.933860\n",
       "Cross Street      0.832156\n",
       "Weapon Desc       0.664036\n",
       "Weapon Used Cd    0.664036\n",
       "Mocodes           0.107724\n",
       "Vict Descent      0.092898\n",
       "Vict Sex          0.092876\n",
       "Premis Desc       0.000088\n",
       "Premis Cd         0.000025\n",
       "Crm Cd 1          0.000005\n",
       "Status            0.000001\n",
       "dtype: float64"
      ]
     },
     "execution_count": 79,
     "metadata": {},
     "output_type": "execute_result"
    }
   ],
   "source": [
    "missing_percentages[missing_percentages != 0]"
   ]
  },
  {
   "cell_type": "code",
   "execution_count": 80,
   "id": "05f922b8",
   "metadata": {},
   "outputs": [
    {
     "data": {
      "text/plain": [
       "<AxesSubplot:>"
      ]
     },
     "execution_count": 80,
     "metadata": {},
     "output_type": "execute_result"
    },
    {
     "data": {
      "image/png": "[encoded data removed]",
      "text/plain": [
       "<Figure size 576x396 with 1 Axes>"
      ]
     },
     "metadata": {},
     "output_type": "display_data"
    }
   ],
   "source": [
    "missing_percentages[missing_percentages != 0].plot(kind='barh')"
   ]
  },
  {
   "cell_type": "markdown",
   "id": "9e915aa9",
   "metadata": {},
   "source": [
    "Removing Columns that I don't want to use"
   ]
  },
  {
   "cell_type": "code",
   "execution_count": 81,
   "id": "95e61806",
   "metadata": {},
   "outputs": [
    {
     "data": {
      "text/plain": [
       "Index(['DR_NO', 'Date Rptd', 'DATE OCC', 'TIME OCC', 'AREA ', 'AREA NAME',\n",
       "       'Rpt Dist No', 'Part 1-2', 'Crm Cd', 'Crm Cd Desc', 'Mocodes',\n",
       "       'Vict Age', 'Vict Sex', 'Vict Descent', 'Premis Cd', 'Premis Desc',\n",
       "       'Weapon Used Cd', 'Weapon Desc', 'Status', 'Status Desc', 'Crm Cd 1',\n",
       "       'Crm Cd 2', 'Crm Cd 3', 'Crm Cd 4', 'LOCATION', 'Cross Street', 'LAT',\n",
       "       'LON'],\n",
       "      dtype='object')"
      ]
     },
     "execution_count": 81,
     "metadata": {},
     "output_type": "execute_result"
    }
   ],
   "source": [
    "df.columns"
   ]
  },
  {
   "cell_type": "markdown",
   "id": "f9fc38f7",
   "metadata": {},
   "source": [
    "Exploratory Analysis and Visualization \n",
    "\n",
    "Columns to analyse\n",
    "1. Area Name\n",
    "2. Time occ\n",
    "3. LAT , LON\n",
    "4. Vict Descent\n",
    "5. Vict Sex, Vict Age"
   ]
  },
  {
   "cell_type": "code",
   "execution_count": 82,
   "id": "f3c580fc",
   "metadata": {},
   "outputs": [],
   "source": [
    "df.columns = df.columns.str.replace(' ','_')"
   ]
  },
  {
   "cell_type": "markdown",
   "id": "1c3ace46",
   "metadata": {},
   "source": [
    "AREA_NAME"
   ]
  },
  {
   "cell_type": "code",
   "execution_count": 83,
   "id": "fbdc98de",
   "metadata": {},
   "outputs": [
    {
     "data": {
      "text/plain": [
       "0              Newton\n",
       "1             Pacific\n",
       "2              Newton\n",
       "3           Hollywood\n",
       "4             Central\n",
       "              ...    \n",
       "2118198     Hollywood\n",
       "2118199      Wilshire\n",
       "2118200       Olympic\n",
       "2118201    Devonshire\n",
       "2118202       West LA\n",
       "Name: AREA_NAME, Length: 2118203, dtype: object"
      ]
     },
     "execution_count": 83,
     "metadata": {},
     "output_type": "execute_result"
    }
   ],
   "source": [
    "df.AREA_NAME"
   ]
  },
  {
   "cell_type": "code",
   "execution_count": null,
   "id": "be2b6dc7",
   "metadata": {},
   "outputs": [],
   "source": []
  },
  {
   "cell_type": "code",
   "execution_count": 84,
   "id": "275fe4fc",
   "metadata": {},
   "outputs": [
    {
     "data": {
      "text/plain": [
       "21"
      ]
     },
     "execution_count": 84,
     "metadata": {},
     "output_type": "execute_result"
    }
   ],
   "source": [
    "area_names = df.AREA_NAME.unique()\n",
    "len(area_names)"
   ]
  },
  {
   "cell_type": "code",
   "execution_count": 85,
   "id": "de1848e5",
   "metadata": {},
   "outputs": [
    {
     "data": {
      "text/plain": [
       "77th Street    145489\n",
       "Southwest      135596\n",
       "N Hollywood    114060\n",
       "Pacific        112624\n",
       "Southeast      111582\n",
       "Mission        103726\n",
       "Northeast      100382\n",
       "Newton         100118\n",
       "Van Nuys        99872\n",
       "Hollywood       99135\n",
       "Central         98383\n",
       "Topanga         97753\n",
       "Devonshire      96619\n",
       "Olympic         95447\n",
       "Harbor          92095\n",
       "West Valley     89708\n",
       "Rampart         89707\n",
       "West LA         89175\n",
       "Wilshire        88715\n",
       "Foothill        79975\n",
       "Hollenbeck      78042\n",
       "Name: AREA_NAME, dtype: int64"
      ]
     },
     "execution_count": 85,
     "metadata": {},
     "output_type": "execute_result"
    }
   ],
   "source": [
    "areas_by_crime = df.AREA_NAME.value_counts()\n",
    "areas_by_crime"
   ]
  },
  {
   "cell_type": "code",
   "execution_count": 86,
   "id": "b7987c2c",
   "metadata": {},
   "outputs": [
    {
     "data": {
      "text/plain": [
       "<AxesSubplot:>"
      ]
     },
     "execution_count": 86,
     "metadata": {},
     "output_type": "execute_result"
    },
    {
     "data": {
      "image/png": "[encoded data removed]",
      "text/plain": [
       "<Figure size 576x396 with 1 Axes>"
      ]
     },
     "metadata": {},
     "output_type": "display_data"
    }
   ],
   "source": [
    "areas_by_crime.plot(kind=\"barh\")"
   ]
  },
  {
   "cell_type": "code",
   "execution_count": 87,
   "id": "7669b9a8",
   "metadata": {},
   "outputs": [],
   "source": [
    "import seaborn as sns\n",
    "sns.set_style(\"darkgrid\")"
   ]
  },
  {
   "cell_type": "code",
   "execution_count": 88,
   "id": "63300238",
   "metadata": {},
   "outputs": [
    {
     "data": {
      "text/plain": [
       "<AxesSubplot:xlabel='AREA_NAME', ylabel='Count'>"
      ]
     },
     "execution_count": 88,
     "metadata": {},
     "output_type": "execute_result"
    },
    {
     "data": {
      "image/png": "[encoded data removed]",
      "text/plain": [
       "<Figure size 576x396 with 1 Axes>"
      ]
     },
     "metadata": {},
     "output_type": "display_data"
    }
   ],
   "source": [
    "sns.histplot(areas_by_crime)"
   ]
  },
  {
   "cell_type": "code",
   "execution_count": 89,
   "id": "f1bdf9d4",
   "metadata": {},
   "outputs": [
    {
     "name": "stderr",
     "output_type": "stream",
     "text": [
      "C:\\Users\\email\\anaconda3\\lib\\site-packages\\seaborn\\distributions.py:2619: FutureWarning: `distplot` is a deprecated function and will be removed in a future version. Please adapt your code to use either `displot` (a figure-level function with similar flexibility) or `histplot` (an axes-level function for histograms).\n",
      "  warnings.warn(msg, FutureWarning)\n"
     ]
    },
    {
     "data": {
      "text/plain": [
       "<AxesSubplot:xlabel='AREA_NAME', ylabel='Density'>"
      ]
     },
     "execution_count": 89,
     "metadata": {},
     "output_type": "execute_result"
    },
    {
     "data": {
      "image/png": "[encoded data removed]",
      "text/plain": [
       "<Figure size 576x396 with 1 Axes>"
      ]
     },
     "metadata": {},
     "output_type": "display_data"
    }
   ],
   "source": [
    "sns.distplot(areas_by_crime)"
   ]
  },
  {
   "cell_type": "code",
   "execution_count": 90,
   "id": "74e76877",
   "metadata": {},
   "outputs": [],
   "source": [
    "high_crime_areas = areas_by_crime[areas_by_crime>=125000]\n",
    "low_crime_areas = areas_by_crime[areas_by_crime<1250000]\n"
   ]
  },
  {
   "cell_type": "code",
   "execution_count": 91,
   "id": "a0be41e4",
   "metadata": {},
   "outputs": [
    {
     "data": {
      "text/plain": [
       "0.09523809523809523"
      ]
     },
     "execution_count": 91,
     "metadata": {},
     "output_type": "execute_result"
    }
   ],
   "source": [
    "len(high_crime_areas)/len(areas_by_crime)"
   ]
  },
  {
   "cell_type": "markdown",
   "id": "dc013de7",
   "metadata": {},
   "source": [
    "DATE OCC: string\n",
    "TIME OCC: military format int64"
   ]
  },
  {
   "cell_type": "code",
   "execution_count": 92,
   "id": "c37aedce",
   "metadata": {},
   "outputs": [
    {
     "data": {
      "text/plain": [
       "0          02/20/2010 12:00:00 AM\n",
       "1          09/12/2010 12:00:00 AM\n",
       "2          08/09/2010 12:00:00 AM\n",
       "3          01/05/2010 12:00:00 AM\n",
       "4          01/02/2010 12:00:00 AM\n",
       "                    ...          \n",
       "2118198    03/28/2019 12:00:00 AM\n",
       "2118199    08/14/2019 12:00:00 AM\n",
       "2118200    01/06/2019 12:00:00 AM\n",
       "2118201    10/16/2019 12:00:00 AM\n",
       "2118202    02/01/2019 12:00:00 AM\n",
       "Name: DATE_OCC, Length: 2118203, dtype: object"
      ]
     },
     "execution_count": 92,
     "metadata": {},
     "output_type": "execute_result"
    }
   ],
   "source": [
    "df.DATE_OCC"
   ]
  },
  {
   "cell_type": "code",
   "execution_count": 93,
   "id": "ad06423e",
   "metadata": {},
   "outputs": [
    {
     "data": {
      "text/plain": [
       "'02/20/2010 12:00:00 AM'"
      ]
     },
     "execution_count": 93,
     "metadata": {},
     "output_type": "execute_result"
    }
   ],
   "source": [
    "df.DATE_OCC[0]"
   ]
  },
  {
   "cell_type": "code",
   "execution_count": 94,
   "id": "ef489297",
   "metadata": {},
   "outputs": [],
   "source": [
    "df.DATE_OCC = pd.to_datetime(df.DATE_OCC)"
   ]
  },
  {
   "cell_type": "code",
   "execution_count": 95,
   "id": "5c3d8001",
   "metadata": {},
   "outputs": [
    {
     "data": {
      "text/plain": [
       "Timestamp('2010-02-20 00:00:00')"
      ]
     },
     "execution_count": 95,
     "metadata": {},
     "output_type": "execute_result"
    }
   ],
   "source": [
    "pd.to_datetime(df.DATE_OCC)[0]"
   ]
  },
  {
   "cell_type": "code",
   "execution_count": 96,
   "id": "543a5641",
   "metadata": {},
   "outputs": [
    {
     "data": {
      "text/plain": [
       "0          1350\n",
       "1            45\n",
       "2          1515\n",
       "3           150\n",
       "4          2100\n",
       "           ... \n",
       "2118198     400\n",
       "2118199    1810\n",
       "2118200    2100\n",
       "2118201    1800\n",
       "2118202    1615\n",
       "Name: TIME_OCC, Length: 2118203, dtype: int64"
      ]
     },
     "execution_count": 96,
     "metadata": {},
     "output_type": "execute_result"
    }
   ],
   "source": [
    "df.TIME_OCC"
   ]
  },
  {
   "cell_type": "code",
   "execution_count": 97,
   "id": "187492e6",
   "metadata": {},
   "outputs": [
    {
     "data": {
      "text/plain": [
       "<AxesSubplot:xlabel='TIME_OCC', ylabel='Count'>"
      ]
     },
     "execution_count": 97,
     "metadata": {},
     "output_type": "execute_result"
    },
    {
     "data": {
      "image/png": "[encoded data removed]",
      "text/plain": [
       "<Figure size 576x396 with 1 Axes>"
      ]
     },
     "metadata": {},
     "output_type": "display_data"
    }
   ],
   "source": [
    "sns.histplot(df.TIME_OCC//100, bins=24)"
   ]
  },
  {
   "cell_type": "code",
   "execution_count": 98,
   "id": "e7e1da5e",
   "metadata": {
    "scrolled": true
   },
   "outputs": [
    {
     "name": "stderr",
     "output_type": "stream",
     "text": [
      "C:\\Users\\email\\anaconda3\\lib\\site-packages\\seaborn\\distributions.py:2619: FutureWarning: `distplot` is a deprecated function and will be removed in a future version. Please adapt your code to use either `displot` (a figure-level function with similar flexibility) or `histplot` (an axes-level function for histograms).\n",
      "  warnings.warn(msg, FutureWarning)\n"
     ]
    },
    {
     "data": {
      "text/plain": [
       "<AxesSubplot:xlabel='TIME_OCC'>"
      ]
     },
     "execution_count": 98,
     "metadata": {},
     "output_type": "execute_result"
    },
    {
     "data": {
      "image/png": "[encoded data removed]",
      "text/plain": [
       "<Figure size 576x396 with 1 Axes>"
      ]
     },
     "metadata": {},
     "output_type": "display_data"
    }
   ],
   "source": [
    "sns.distplot(df.TIME_OCC//100, bins=24,kde=False, norm_hist=True )"
   ]
  },
  {
   "cell_type": "code",
   "execution_count": 99,
   "id": "b1da7646",
   "metadata": {},
   "outputs": [
    {
     "data": {
      "text/plain": [
       "0         2010-02-20\n",
       "1         2010-09-12\n",
       "2         2010-08-09\n",
       "3         2010-01-05\n",
       "4         2010-01-02\n",
       "             ...    \n",
       "2118198   2019-03-28\n",
       "2118199   2019-08-14\n",
       "2118200   2019-01-06\n",
       "2118201   2019-10-16\n",
       "2118202   2019-02-01\n",
       "Name: DATE_OCC, Length: 2118203, dtype: datetime64[ns]"
      ]
     },
     "execution_count": 99,
     "metadata": {},
     "output_type": "execute_result"
    }
   ],
   "source": [
    "df.DATE_OCC"
   ]
  },
  {
   "cell_type": "code",
   "execution_count": 100,
   "id": "4a1118ed",
   "metadata": {},
   "outputs": [
    {
     "data": {
      "text/plain": [
       "<AxesSubplot:xlabel='DATE_OCC'>"
      ]
     },
     "execution_count": 100,
     "metadata": {},
     "output_type": "execute_result"
    },
    {
     "data": {
      "image/png": "[encoded data removed]",
      "text/plain": [
       "<Figure size 576x396 with 1 Axes>"
      ]
     },
     "metadata": {},
     "output_type": "display_data"
    }
   ],
   "source": [
    "sns.distplot(df.DATE_OCC.dt.dayofweek, bins=24,kde=False, norm_hist=True )"
   ]
  },
  {
   "cell_type": "markdown",
   "id": "152cc8a9",
   "metadata": {},
   "source": [
    "0 - monday\n",
    "6- sunday\n",
    "We notice Friday has the highest crime rate"
   ]
  },
  {
   "cell_type": "code",
   "execution_count": 101,
   "id": "c114a899",
   "metadata": {},
   "outputs": [
    {
     "data": {
      "text/plain": [
       "<AxesSubplot:xlabel='DATE_OCC'>"
      ]
     },
     "execution_count": 101,
     "metadata": {},
     "output_type": "execute_result"
    },
    {
     "data": {
      "image/png": "[encoded data removed]",
      "text/plain": [
       "<Figure size 576x396 with 1 Axes>"
      ]
     },
     "metadata": {},
     "output_type": "display_data"
    }
   ],
   "source": [
    "sns.distplot(df.DATE_OCC.dt.month, bins=12,kde=False, norm_hist=True ) "
   ]
  },
  {
   "cell_type": "code",
   "execution_count": 102,
   "id": "fa7be86f",
   "metadata": {},
   "outputs": [
    {
     "data": {
      "text/plain": [
       "1            45\n",
       "22          130\n",
       "23         1000\n",
       "24         1700\n",
       "25         2200\n",
       "           ... \n",
       "2118178     940\n",
       "2118189      10\n",
       "2118190       1\n",
       "2118194    2000\n",
       "2118200    2100\n",
       "Name: TIME_OCC, Length: 291534, dtype: int64"
      ]
     },
     "execution_count": 102,
     "metadata": {},
     "output_type": "execute_result"
    }
   ],
   "source": [
    "df_sunday = df.TIME_OCC[df.DATE_OCC.dt.dayofweek == 6 ]\n",
    "df_sunday"
   ]
  },
  {
   "cell_type": "code",
   "execution_count": 103,
   "id": "1ea8d3a1",
   "metadata": {},
   "outputs": [
    {
     "data": {
      "text/plain": [
       "<AxesSubplot:xlabel='TIME_OCC'>"
      ]
     },
     "execution_count": 103,
     "metadata": {},
     "output_type": "execute_result"
    },
    {
     "data": {
      "image/png": "[encoded data removed]",
      "text/plain": [
       "<Figure size 576x396 with 1 Axes>"
      ]
     },
     "metadata": {},
     "output_type": "display_data"
    }
   ],
   "source": [
    "sns.distplot(df_sunday//100, bins=24,kde=False, norm_hist=True) "
   ]
  },
  {
   "cell_type": "code",
   "execution_count": 104,
   "id": "ffa41373",
   "metadata": {},
   "outputs": [
    {
     "data": {
      "text/plain": [
       "<AxesSubplot:xlabel='TIME_OCC'>"
      ]
     },
     "execution_count": 104,
     "metadata": {},
     "output_type": "execute_result"
    },
    {
     "data": {
      "image/png": "[encoded data removed]",
      "text/plain": [
       "<Figure size 576x396 with 1 Axes>"
      ]
     },
     "metadata": {},
     "output_type": "display_data"
    }
   ],
   "source": [
    "sns.distplot(df.TIME_OCC[df.DATE_OCC.dt.dayofweek == 1 ]//100, bins=24,kde=False, norm_hist=True)"
   ]
  },
  {
   "cell_type": "code",
   "execution_count": 105,
   "id": "d548495a",
   "metadata": {},
   "outputs": [
    {
     "data": {
      "text/plain": [
       "<AxesSubplot:>"
      ]
     },
     "execution_count": 105,
     "metadata": {},
     "output_type": "execute_result"
    },
    {
     "data": {
      "image/png": "[encoded data removed]",
      "text/plain": [
       "<Figure size 576x396 with 1 Axes>"
      ]
     },
     "metadata": {},
     "output_type": "display_data"
    }
   ],
   "source": [
    "sns.heatmap(df.isnull(),cbar=False,cmap='viridis')"
   ]
  },
  {
   "cell_type": "code",
   "execution_count": 106,
   "id": "df68b6da",
   "metadata": {},
   "outputs": [
    {
     "data": {
      "text/plain": [
       "<AxesSubplot:xlabel='DATE_OCC'>"
      ]
     },
     "execution_count": 106,
     "metadata": {},
     "output_type": "execute_result"
    },
    {
     "data": {
      "image/png": "[encoded data removed]",
      "text/plain": [
       "<Figure size 576x396 with 1 Axes>"
      ]
     },
     "metadata": {},
     "output_type": "display_data"
    }
   ],
   "source": [
    "sns.distplot(df.DATE_OCC.dt.year,kde=False,bins =9, norm_hist=True ) "
   ]
  },
  {
   "cell_type": "markdown",
   "id": "379d0481",
   "metadata": {},
   "source": []
  },
  {
   "cell_type": "markdown",
   "id": "3e45e961",
   "metadata": {},
   "source": [
    "LATITUDE LONGITUDE"
   ]
  },
  {
   "cell_type": "code",
   "execution_count": 107,
   "id": "2084469b",
   "metadata": {},
   "outputs": [
    {
     "data": {
      "text/plain": [
       "0          33.9825\n",
       "1          33.9599\n",
       "2          34.0224\n",
       "3          34.1016\n",
       "4          34.0387\n",
       "            ...   \n",
       "2118198    34.0962\n",
       "2118199    34.0871\n",
       "2118200    34.0637\n",
       "2118201    34.2266\n",
       "2118202    34.0420\n",
       "Name: LAT, Length: 2118203, dtype: float64"
      ]
     },
     "execution_count": 107,
     "metadata": {},
     "output_type": "execute_result"
    }
   ],
   "source": [
    "df.LAT"
   ]
  },
  {
   "cell_type": "code",
   "execution_count": 108,
   "id": "7c824e4c",
   "metadata": {},
   "outputs": [
    {
     "data": {
      "text/plain": [
       "0         -118.2695\n",
       "1         -118.3962\n",
       "2         -118.2524\n",
       "3         -118.3295\n",
       "4         -118.2488\n",
       "             ...   \n",
       "2118198   -118.3490\n",
       "2118199   -118.3732\n",
       "2118200   -118.2870\n",
       "2118201   -118.5085\n",
       "2118202   -118.4531\n",
       "Name: LON, Length: 2118203, dtype: float64"
      ]
     },
     "execution_count": 108,
     "metadata": {},
     "output_type": "execute_result"
    }
   ],
   "source": [
    "df.LON"
   ]
  },
  {
   "cell_type": "code",
   "execution_count": 109,
   "id": "c5a767df",
   "metadata": {},
   "outputs": [
    {
     "data": {
      "text/plain": [
       "<AxesSubplot:xlabel='LON', ylabel='LAT'>"
      ]
     },
     "execution_count": 109,
     "metadata": {},
     "output_type": "execute_result"
    },
    {
     "data": {
      "image/png": "[encoded data removed]",
      "text/plain": [
       "<Figure size 576x396 with 1 Axes>"
      ]
     },
     "metadata": {},
     "output_type": "display_data"
    }
   ],
   "source": [
    "sns.scatterplot(x=df.LON, y =df.LAT)"
   ]
  },
  {
   "cell_type": "markdown",
   "id": "ff1683b7",
   "metadata": {},
   "source": [
    "removing 0 to Null"
   ]
  },
  {
   "cell_type": "code",
   "execution_count": 110,
   "id": "69026da9",
   "metadata": {},
   "outputs": [],
   "source": [
    "import numpy as np\n",
    "df[\"LAT\"].replace({0: np.nan}, inplace=True)   "
   ]
  },
  {
   "cell_type": "code",
   "execution_count": 111,
   "id": "7bf8b73e",
   "metadata": {},
   "outputs": [
    {
     "data": {
      "text/plain": [
       "<AxesSubplot:xlabel='LON', ylabel='LAT'>"
      ]
     },
     "execution_count": 111,
     "metadata": {},
     "output_type": "execute_result"
    },
    {
     "data": {
      "image/png": "[encoded data removed]",
      "text/plain": [
       "<Figure size 576x396 with 1 Axes>"
      ]
     },
     "metadata": {},
     "output_type": "display_data"
    }
   ],
   "source": [
    "sns.scatterplot(x=df.LON, y =df.LAT, size = 0.01)"
   ]
  },
  {
   "cell_type": "code",
   "execution_count": 112,
   "id": "3012afd5",
   "metadata": {},
   "outputs": [
    {
     "data": {
      "text/plain": [
       "<AxesSubplot:>"
      ]
     },
     "execution_count": 112,
     "metadata": {},
     "output_type": "execute_result"
    },
    {
     "data": {
      "image/png": "[encoded data removed]",
      "text/plain": [
       "<Figure size 576x396 with 1 Axes>"
      ]
     },
     "metadata": {},
     "output_type": "display_data"
    }
   ],
   "source": [
    "sns.heatmap(df.isnull(),cbar=False,cmap='viridis')"
   ]
  },
  {
   "cell_type": "markdown",
   "id": "1091ca72",
   "metadata": {},
   "source": [
    "since a lot of data is missing in crm_cd_2 crm_cd_3 crm_cd_4, cross_street,weapon_used,weapon_desc we are going to ignore\n",
    " For Vict Descent, Vict Sex, Mocodes"
   ]
  },
  {
   "cell_type": "code",
   "execution_count": 113,
   "id": "337cea82",
   "metadata": {
    "scrolled": true
   },
   "outputs": [],
   "source": [
    "to_drop =[\"Weapon_Used_Cd\",\n",
    "          \"Weapon_Desc\",\n",
    "          \"Crm_Cd_2\",\n",
    "          \"Crm_Cd_3\",\n",
    "          \"Crm_Cd_4\",\n",
    "          \"Crm_Cd_Desc\",\n",
    "         \"Cross_Street\"]\n",
    "df.drop(to_drop, inplace=True, axis=1)"
   ]
  },
  {
   "cell_type": "code",
   "execution_count": 114,
   "id": "8bbefd8f",
   "metadata": {},
   "outputs": [],
   "source": [
    "to_drop =[]\n",
    "df.drop(to_drop, inplace=True, axis=1)"
   ]
  },
  {
   "cell_type": "code",
   "execution_count": 115,
   "id": "a827b8ad",
   "metadata": {},
   "outputs": [
    {
     "data": {
      "text/html": [
       "<div>\n",
       "<style scoped>\n",
       "    .dataframe tbody tr th:only-of-type {\n",
       "        vertical-align: middle;\n",
       "    }\n",
       "\n",
       "    .dataframe tbody tr th {\n",
       "        vertical-align: top;\n",
       "    }\n",
       "\n",
       "    .dataframe thead th {\n",
       "        text-align: right;\n",
       "    }\n",
       "</style>\n",
       "<table border=\"1\" class=\"dataframe\">\n",
       "  <thead>\n",
       "    <tr style=\"text-align: right;\">\n",
       "      <th></th>\n",
       "      <th>DR_NO</th>\n",
       "      <th>Date_Rptd</th>\n",
       "      <th>DATE_OCC</th>\n",
       "      <th>TIME_OCC</th>\n",
       "      <th>AREA_</th>\n",
       "      <th>AREA_NAME</th>\n",
       "      <th>Rpt_Dist_No</th>\n",
       "      <th>Part_1-2</th>\n",
       "      <th>Crm_Cd</th>\n",
       "      <th>Mocodes</th>\n",
       "      <th>...</th>\n",
       "      <th>Vict_Sex</th>\n",
       "      <th>Vict_Descent</th>\n",
       "      <th>Premis_Cd</th>\n",
       "      <th>Premis_Desc</th>\n",
       "      <th>Status</th>\n",
       "      <th>Status_Desc</th>\n",
       "      <th>Crm_Cd_1</th>\n",
       "      <th>LOCATION</th>\n",
       "      <th>LAT</th>\n",
       "      <th>LON</th>\n",
       "    </tr>\n",
       "  </thead>\n",
       "  <tbody>\n",
       "    <tr>\n",
       "      <th>0</th>\n",
       "      <td>1307355</td>\n",
       "      <td>02/20/2010 12:00:00 AM</td>\n",
       "      <td>2010-02-20</td>\n",
       "      <td>1350</td>\n",
       "      <td>13</td>\n",
       "      <td>Newton</td>\n",
       "      <td>1385</td>\n",
       "      <td>2</td>\n",
       "      <td>900</td>\n",
       "      <td>0913 1814 2000</td>\n",
       "      <td>...</td>\n",
       "      <td>M</td>\n",
       "      <td>H</td>\n",
       "      <td>501.0</td>\n",
       "      <td>SINGLE FAMILY DWELLING</td>\n",
       "      <td>AA</td>\n",
       "      <td>Adult Arrest</td>\n",
       "      <td>900.0</td>\n",
       "      <td>300 E  GAGE                         AV</td>\n",
       "      <td>33.9825</td>\n",
       "      <td>-118.2695</td>\n",
       "    </tr>\n",
       "    <tr>\n",
       "      <th>1</th>\n",
       "      <td>11401303</td>\n",
       "      <td>09/13/2010 12:00:00 AM</td>\n",
       "      <td>2010-09-12</td>\n",
       "      <td>45</td>\n",
       "      <td>14</td>\n",
       "      <td>Pacific</td>\n",
       "      <td>1485</td>\n",
       "      <td>2</td>\n",
       "      <td>740</td>\n",
       "      <td>0329</td>\n",
       "      <td>...</td>\n",
       "      <td>M</td>\n",
       "      <td>W</td>\n",
       "      <td>101.0</td>\n",
       "      <td>STREET</td>\n",
       "      <td>IC</td>\n",
       "      <td>Invest Cont</td>\n",
       "      <td>740.0</td>\n",
       "      <td>SEPULVEDA                    BL</td>\n",
       "      <td>33.9599</td>\n",
       "      <td>-118.3962</td>\n",
       "    </tr>\n",
       "    <tr>\n",
       "      <th>2</th>\n",
       "      <td>70309629</td>\n",
       "      <td>08/09/2010 12:00:00 AM</td>\n",
       "      <td>2010-08-09</td>\n",
       "      <td>1515</td>\n",
       "      <td>13</td>\n",
       "      <td>Newton</td>\n",
       "      <td>1324</td>\n",
       "      <td>2</td>\n",
       "      <td>946</td>\n",
       "      <td>0344</td>\n",
       "      <td>...</td>\n",
       "      <td>M</td>\n",
       "      <td>H</td>\n",
       "      <td>103.0</td>\n",
       "      <td>ALLEY</td>\n",
       "      <td>IC</td>\n",
       "      <td>Invest Cont</td>\n",
       "      <td>946.0</td>\n",
       "      <td>1300 E  21ST                         ST</td>\n",
       "      <td>34.0224</td>\n",
       "      <td>-118.2524</td>\n",
       "    </tr>\n",
       "    <tr>\n",
       "      <th>3</th>\n",
       "      <td>90631215</td>\n",
       "      <td>01/05/2010 12:00:00 AM</td>\n",
       "      <td>2010-01-05</td>\n",
       "      <td>150</td>\n",
       "      <td>6</td>\n",
       "      <td>Hollywood</td>\n",
       "      <td>646</td>\n",
       "      <td>2</td>\n",
       "      <td>900</td>\n",
       "      <td>1100 0400 1402</td>\n",
       "      <td>...</td>\n",
       "      <td>F</td>\n",
       "      <td>W</td>\n",
       "      <td>101.0</td>\n",
       "      <td>STREET</td>\n",
       "      <td>IC</td>\n",
       "      <td>Invest Cont</td>\n",
       "      <td>900.0</td>\n",
       "      <td>CAHUENGA                     BL</td>\n",
       "      <td>34.1016</td>\n",
       "      <td>-118.3295</td>\n",
       "    </tr>\n",
       "    <tr>\n",
       "      <th>4</th>\n",
       "      <td>100100501</td>\n",
       "      <td>01/03/2010 12:00:00 AM</td>\n",
       "      <td>2010-01-02</td>\n",
       "      <td>2100</td>\n",
       "      <td>1</td>\n",
       "      <td>Central</td>\n",
       "      <td>176</td>\n",
       "      <td>1</td>\n",
       "      <td>122</td>\n",
       "      <td>0400</td>\n",
       "      <td>...</td>\n",
       "      <td>F</td>\n",
       "      <td>H</td>\n",
       "      <td>103.0</td>\n",
       "      <td>ALLEY</td>\n",
       "      <td>IC</td>\n",
       "      <td>Invest Cont</td>\n",
       "      <td>122.0</td>\n",
       "      <td>8TH                          ST</td>\n",
       "      <td>34.0387</td>\n",
       "      <td>-118.2488</td>\n",
       "    </tr>\n",
       "  </tbody>\n",
       "</table>\n",
       "<p>5 rows × 21 columns</p>\n",
       "</div>"
      ],
      "text/plain": [
       "       DR_NO               Date_Rptd   DATE_OCC  TIME_OCC  AREA_  AREA_NAME  \\\n",
       "0    1307355  02/20/2010 12:00:00 AM 2010-02-20      1350     13     Newton   \n",
       "1   11401303  09/13/2010 12:00:00 AM 2010-09-12        45     14    Pacific   \n",
       "2   70309629  08/09/2010 12:00:00 AM 2010-08-09      1515     13     Newton   \n",
       "3   90631215  01/05/2010 12:00:00 AM 2010-01-05       150      6  Hollywood   \n",
       "4  100100501  01/03/2010 12:00:00 AM 2010-01-02      2100      1    Central   \n",
       "\n",
       "   Rpt_Dist_No  Part_1-2  Crm_Cd         Mocodes  ...  Vict_Sex Vict_Descent  \\\n",
       "0         1385         2     900  0913 1814 2000  ...         M            H   \n",
       "1         1485         2     740            0329  ...         M            W   \n",
       "2         1324         2     946            0344  ...         M            H   \n",
       "3          646         2     900  1100 0400 1402  ...         F            W   \n",
       "4          176         1     122            0400  ...         F            H   \n",
       "\n",
       "  Premis_Cd             Premis_Desc Status   Status_Desc Crm_Cd_1  \\\n",
       "0     501.0  SINGLE FAMILY DWELLING     AA  Adult Arrest    900.0   \n",
       "1     101.0                  STREET     IC   Invest Cont    740.0   \n",
       "2     103.0                   ALLEY     IC   Invest Cont    946.0   \n",
       "3     101.0                  STREET     IC   Invest Cont    900.0   \n",
       "4     103.0                   ALLEY     IC   Invest Cont    122.0   \n",
       "\n",
       "                                  LOCATION      LAT       LON  \n",
       "0   300 E  GAGE                         AV  33.9825 -118.2695  \n",
       "1          SEPULVEDA                    BL  33.9599 -118.3962  \n",
       "2  1300 E  21ST                         ST  34.0224 -118.2524  \n",
       "3          CAHUENGA                     BL  34.1016 -118.3295  \n",
       "4          8TH                          ST  34.0387 -118.2488  \n",
       "\n",
       "[5 rows x 21 columns]"
      ]
     },
     "execution_count": 115,
     "metadata": {},
     "output_type": "execute_result"
    }
   ],
   "source": [
    "df.head()"
   ]
  },
  {
   "cell_type": "code",
   "execution_count": 116,
   "id": "4709b10f",
   "metadata": {},
   "outputs": [],
   "source": [
    "df[\"Vict_Age\"].replace({0: np.nan}, inplace=True)   "
   ]
  },
  {
   "cell_type": "code",
   "execution_count": 117,
   "id": "2ee98c4d",
   "metadata": {},
   "outputs": [],
   "source": [
    "mean_value_age=df['Vict_Age'].mean()\n",
    "df['Vict_Age'].fillna(value=mean_value_age, inplace=True)"
   ]
  },
  {
   "cell_type": "code",
   "execution_count": 118,
   "id": "ea5c5fe8",
   "metadata": {
    "scrolled": true
   },
   "outputs": [
    {
     "data": {
      "text/html": [
       "<div>\n",
       "<style scoped>\n",
       "    .dataframe tbody tr th:only-of-type {\n",
       "        vertical-align: middle;\n",
       "    }\n",
       "\n",
       "    .dataframe tbody tr th {\n",
       "        vertical-align: top;\n",
       "    }\n",
       "\n",
       "    .dataframe thead th {\n",
       "        text-align: right;\n",
       "    }\n",
       "</style>\n",
       "<table border=\"1\" class=\"dataframe\">\n",
       "  <thead>\n",
       "    <tr style=\"text-align: right;\">\n",
       "      <th></th>\n",
       "      <th>DR_NO</th>\n",
       "      <th>Date_Rptd</th>\n",
       "      <th>DATE_OCC</th>\n",
       "      <th>TIME_OCC</th>\n",
       "      <th>AREA_</th>\n",
       "      <th>AREA_NAME</th>\n",
       "      <th>Rpt_Dist_No</th>\n",
       "      <th>Part_1-2</th>\n",
       "      <th>Crm_Cd</th>\n",
       "      <th>Mocodes</th>\n",
       "      <th>...</th>\n",
       "      <th>Vict_Sex</th>\n",
       "      <th>Vict_Descent</th>\n",
       "      <th>Premis_Cd</th>\n",
       "      <th>Premis_Desc</th>\n",
       "      <th>Status</th>\n",
       "      <th>Status_Desc</th>\n",
       "      <th>Crm_Cd_1</th>\n",
       "      <th>LOCATION</th>\n",
       "      <th>LAT</th>\n",
       "      <th>LON</th>\n",
       "    </tr>\n",
       "  </thead>\n",
       "  <tbody>\n",
       "    <tr>\n",
       "      <th>0</th>\n",
       "      <td>1307355</td>\n",
       "      <td>02/20/2010 12:00:00 AM</td>\n",
       "      <td>2010-02-20</td>\n",
       "      <td>1350</td>\n",
       "      <td>13</td>\n",
       "      <td>Newton</td>\n",
       "      <td>1385</td>\n",
       "      <td>2</td>\n",
       "      <td>900</td>\n",
       "      <td>0913 1814 2000</td>\n",
       "      <td>...</td>\n",
       "      <td>1.0</td>\n",
       "      <td>H</td>\n",
       "      <td>501.0</td>\n",
       "      <td>SINGLE FAMILY DWELLING</td>\n",
       "      <td>AA</td>\n",
       "      <td>Adult Arrest</td>\n",
       "      <td>900.0</td>\n",
       "      <td>300 E  GAGE                         AV</td>\n",
       "      <td>33.9825</td>\n",
       "      <td>-118.2695</td>\n",
       "    </tr>\n",
       "    <tr>\n",
       "      <th>1</th>\n",
       "      <td>11401303</td>\n",
       "      <td>09/13/2010 12:00:00 AM</td>\n",
       "      <td>2010-09-12</td>\n",
       "      <td>45</td>\n",
       "      <td>14</td>\n",
       "      <td>Pacific</td>\n",
       "      <td>1485</td>\n",
       "      <td>2</td>\n",
       "      <td>740</td>\n",
       "      <td>0329</td>\n",
       "      <td>...</td>\n",
       "      <td>1.0</td>\n",
       "      <td>W</td>\n",
       "      <td>101.0</td>\n",
       "      <td>STREET</td>\n",
       "      <td>IC</td>\n",
       "      <td>Invest Cont</td>\n",
       "      <td>740.0</td>\n",
       "      <td>SEPULVEDA                    BL</td>\n",
       "      <td>33.9599</td>\n",
       "      <td>-118.3962</td>\n",
       "    </tr>\n",
       "    <tr>\n",
       "      <th>2</th>\n",
       "      <td>70309629</td>\n",
       "      <td>08/09/2010 12:00:00 AM</td>\n",
       "      <td>2010-08-09</td>\n",
       "      <td>1515</td>\n",
       "      <td>13</td>\n",
       "      <td>Newton</td>\n",
       "      <td>1324</td>\n",
       "      <td>2</td>\n",
       "      <td>946</td>\n",
       "      <td>0344</td>\n",
       "      <td>...</td>\n",
       "      <td>1.0</td>\n",
       "      <td>H</td>\n",
       "      <td>103.0</td>\n",
       "      <td>ALLEY</td>\n",
       "      <td>IC</td>\n",
       "      <td>Invest Cont</td>\n",
       "      <td>946.0</td>\n",
       "      <td>1300 E  21ST                         ST</td>\n",
       "      <td>34.0224</td>\n",
       "      <td>-118.2524</td>\n",
       "    </tr>\n",
       "    <tr>\n",
       "      <th>3</th>\n",
       "      <td>90631215</td>\n",
       "      <td>01/05/2010 12:00:00 AM</td>\n",
       "      <td>2010-01-05</td>\n",
       "      <td>150</td>\n",
       "      <td>6</td>\n",
       "      <td>Hollywood</td>\n",
       "      <td>646</td>\n",
       "      <td>2</td>\n",
       "      <td>900</td>\n",
       "      <td>1100 0400 1402</td>\n",
       "      <td>...</td>\n",
       "      <td>0.0</td>\n",
       "      <td>W</td>\n",
       "      <td>101.0</td>\n",
       "      <td>STREET</td>\n",
       "      <td>IC</td>\n",
       "      <td>Invest Cont</td>\n",
       "      <td>900.0</td>\n",
       "      <td>CAHUENGA                     BL</td>\n",
       "      <td>34.1016</td>\n",
       "      <td>-118.3295</td>\n",
       "    </tr>\n",
       "    <tr>\n",
       "      <th>4</th>\n",
       "      <td>100100501</td>\n",
       "      <td>01/03/2010 12:00:00 AM</td>\n",
       "      <td>2010-01-02</td>\n",
       "      <td>2100</td>\n",
       "      <td>1</td>\n",
       "      <td>Central</td>\n",
       "      <td>176</td>\n",
       "      <td>1</td>\n",
       "      <td>122</td>\n",
       "      <td>0400</td>\n",
       "      <td>...</td>\n",
       "      <td>0.0</td>\n",
       "      <td>H</td>\n",
       "      <td>103.0</td>\n",
       "      <td>ALLEY</td>\n",
       "      <td>IC</td>\n",
       "      <td>Invest Cont</td>\n",
       "      <td>122.0</td>\n",
       "      <td>8TH                          ST</td>\n",
       "      <td>34.0387</td>\n",
       "      <td>-118.2488</td>\n",
       "    </tr>\n",
       "  </tbody>\n",
       "</table>\n",
       "<p>5 rows × 21 columns</p>\n",
       "</div>"
      ],
      "text/plain": [
       "       DR_NO               Date_Rptd   DATE_OCC  TIME_OCC  AREA_  AREA_NAME  \\\n",
       "0    1307355  02/20/2010 12:00:00 AM 2010-02-20      1350     13     Newton   \n",
       "1   11401303  09/13/2010 12:00:00 AM 2010-09-12        45     14    Pacific   \n",
       "2   70309629  08/09/2010 12:00:00 AM 2010-08-09      1515     13     Newton   \n",
       "3   90631215  01/05/2010 12:00:00 AM 2010-01-05       150      6  Hollywood   \n",
       "4  100100501  01/03/2010 12:00:00 AM 2010-01-02      2100      1    Central   \n",
       "\n",
       "   Rpt_Dist_No  Part_1-2  Crm_Cd         Mocodes  ...  Vict_Sex  Vict_Descent  \\\n",
       "0         1385         2     900  0913 1814 2000  ...       1.0             H   \n",
       "1         1485         2     740            0329  ...       1.0             W   \n",
       "2         1324         2     946            0344  ...       1.0             H   \n",
       "3          646         2     900  1100 0400 1402  ...       0.0             W   \n",
       "4          176         1     122            0400  ...       0.0             H   \n",
       "\n",
       "  Premis_Cd             Premis_Desc Status   Status_Desc Crm_Cd_1  \\\n",
       "0     501.0  SINGLE FAMILY DWELLING     AA  Adult Arrest    900.0   \n",
       "1     101.0                  STREET     IC   Invest Cont    740.0   \n",
       "2     103.0                   ALLEY     IC   Invest Cont    946.0   \n",
       "3     101.0                  STREET     IC   Invest Cont    900.0   \n",
       "4     103.0                   ALLEY     IC   Invest Cont    122.0   \n",
       "\n",
       "                                  LOCATION      LAT       LON  \n",
       "0   300 E  GAGE                         AV  33.9825 -118.2695  \n",
       "1          SEPULVEDA                    BL  33.9599 -118.3962  \n",
       "2  1300 E  21ST                         ST  34.0224 -118.2524  \n",
       "3          CAHUENGA                     BL  34.1016 -118.3295  \n",
       "4          8TH                          ST  34.0387 -118.2488  \n",
       "\n",
       "[5 rows x 21 columns]"
      ]
     },
     "execution_count": 118,
     "metadata": {},
     "output_type": "execute_result"
    }
   ],
   "source": [
    "sex = df[\"Vict_Sex\"]\n",
    "new_sex = list()\n",
    "for i in sex:\n",
    "    if i == 'M':\n",
    "        new_sex.append(1)\n",
    "    elif i == 'F':\n",
    "        new_sex.append(0)\n",
    "df['Vict_Sex'] = pd.Series(new_sex)\n",
    "df.head()"
   ]
  },
  {
   "cell_type": "code",
   "execution_count": 119,
   "id": "0222ffb9",
   "metadata": {},
   "outputs": [],
   "source": [
    "mean_value_sex=df['Vict_Sex'].mean()\n",
    "df['Vict_Sex'].fillna(value=mean_value_sex, inplace=True)"
   ]
  },
  {
   "cell_type": "code",
   "execution_count": 120,
   "id": "fde05321",
   "metadata": {},
   "outputs": [
    {
     "data": {
      "text/html": [
       "<div>\n",
       "<style scoped>\n",
       "    .dataframe tbody tr th:only-of-type {\n",
       "        vertical-align: middle;\n",
       "    }\n",
       "\n",
       "    .dataframe tbody tr th {\n",
       "        vertical-align: top;\n",
       "    }\n",
       "\n",
       "    .dataframe thead th {\n",
       "        text-align: right;\n",
       "    }\n",
       "</style>\n",
       "<table border=\"1\" class=\"dataframe\">\n",
       "  <thead>\n",
       "    <tr style=\"text-align: right;\">\n",
       "      <th></th>\n",
       "      <th>DR_NO</th>\n",
       "      <th>Date_Rptd</th>\n",
       "      <th>DATE_OCC</th>\n",
       "      <th>TIME_OCC</th>\n",
       "      <th>AREA_</th>\n",
       "      <th>AREA_NAME</th>\n",
       "      <th>Rpt_Dist_No</th>\n",
       "      <th>Part_1-2</th>\n",
       "      <th>Crm_Cd</th>\n",
       "      <th>Mocodes</th>\n",
       "      <th>...</th>\n",
       "      <th>Vict_Sex</th>\n",
       "      <th>Vict_Descent</th>\n",
       "      <th>Premis_Cd</th>\n",
       "      <th>Premis_Desc</th>\n",
       "      <th>Status</th>\n",
       "      <th>Status_Desc</th>\n",
       "      <th>Crm_Cd_1</th>\n",
       "      <th>LOCATION</th>\n",
       "      <th>LAT</th>\n",
       "      <th>LON</th>\n",
       "    </tr>\n",
       "  </thead>\n",
       "  <tbody>\n",
       "    <tr>\n",
       "      <th>0</th>\n",
       "      <td>1307355</td>\n",
       "      <td>02/20/2010 12:00:00 AM</td>\n",
       "      <td>2010-02-20</td>\n",
       "      <td>1350</td>\n",
       "      <td>13</td>\n",
       "      <td>Newton</td>\n",
       "      <td>1385</td>\n",
       "      <td>2</td>\n",
       "      <td>900</td>\n",
       "      <td>0913 1814 2000</td>\n",
       "      <td>...</td>\n",
       "      <td>1.0</td>\n",
       "      <td>1.0</td>\n",
       "      <td>501.0</td>\n",
       "      <td>SINGLE FAMILY DWELLING</td>\n",
       "      <td>AA</td>\n",
       "      <td>Adult Arrest</td>\n",
       "      <td>900.0</td>\n",
       "      <td>300 E  GAGE                         AV</td>\n",
       "      <td>33.9825</td>\n",
       "      <td>-118.2695</td>\n",
       "    </tr>\n",
       "    <tr>\n",
       "      <th>1</th>\n",
       "      <td>11401303</td>\n",
       "      <td>09/13/2010 12:00:00 AM</td>\n",
       "      <td>2010-09-12</td>\n",
       "      <td>45</td>\n",
       "      <td>14</td>\n",
       "      <td>Pacific</td>\n",
       "      <td>1485</td>\n",
       "      <td>2</td>\n",
       "      <td>740</td>\n",
       "      <td>0329</td>\n",
       "      <td>...</td>\n",
       "      <td>1.0</td>\n",
       "      <td>2.0</td>\n",
       "      <td>101.0</td>\n",
       "      <td>STREET</td>\n",
       "      <td>IC</td>\n",
       "      <td>Invest Cont</td>\n",
       "      <td>740.0</td>\n",
       "      <td>SEPULVEDA                    BL</td>\n",
       "      <td>33.9599</td>\n",
       "      <td>-118.3962</td>\n",
       "    </tr>\n",
       "    <tr>\n",
       "      <th>2</th>\n",
       "      <td>70309629</td>\n",
       "      <td>08/09/2010 12:00:00 AM</td>\n",
       "      <td>2010-08-09</td>\n",
       "      <td>1515</td>\n",
       "      <td>13</td>\n",
       "      <td>Newton</td>\n",
       "      <td>1324</td>\n",
       "      <td>2</td>\n",
       "      <td>946</td>\n",
       "      <td>0344</td>\n",
       "      <td>...</td>\n",
       "      <td>1.0</td>\n",
       "      <td>1.0</td>\n",
       "      <td>103.0</td>\n",
       "      <td>ALLEY</td>\n",
       "      <td>IC</td>\n",
       "      <td>Invest Cont</td>\n",
       "      <td>946.0</td>\n",
       "      <td>1300 E  21ST                         ST</td>\n",
       "      <td>34.0224</td>\n",
       "      <td>-118.2524</td>\n",
       "    </tr>\n",
       "    <tr>\n",
       "      <th>3</th>\n",
       "      <td>90631215</td>\n",
       "      <td>01/05/2010 12:00:00 AM</td>\n",
       "      <td>2010-01-05</td>\n",
       "      <td>150</td>\n",
       "      <td>6</td>\n",
       "      <td>Hollywood</td>\n",
       "      <td>646</td>\n",
       "      <td>2</td>\n",
       "      <td>900</td>\n",
       "      <td>1100 0400 1402</td>\n",
       "      <td>...</td>\n",
       "      <td>0.0</td>\n",
       "      <td>2.0</td>\n",
       "      <td>101.0</td>\n",
       "      <td>STREET</td>\n",
       "      <td>IC</td>\n",
       "      <td>Invest Cont</td>\n",
       "      <td>900.0</td>\n",
       "      <td>CAHUENGA                     BL</td>\n",
       "      <td>34.1016</td>\n",
       "      <td>-118.3295</td>\n",
       "    </tr>\n",
       "    <tr>\n",
       "      <th>4</th>\n",
       "      <td>100100501</td>\n",
       "      <td>01/03/2010 12:00:00 AM</td>\n",
       "      <td>2010-01-02</td>\n",
       "      <td>2100</td>\n",
       "      <td>1</td>\n",
       "      <td>Central</td>\n",
       "      <td>176</td>\n",
       "      <td>1</td>\n",
       "      <td>122</td>\n",
       "      <td>0400</td>\n",
       "      <td>...</td>\n",
       "      <td>0.0</td>\n",
       "      <td>1.0</td>\n",
       "      <td>103.0</td>\n",
       "      <td>ALLEY</td>\n",
       "      <td>IC</td>\n",
       "      <td>Invest Cont</td>\n",
       "      <td>122.0</td>\n",
       "      <td>8TH                          ST</td>\n",
       "      <td>34.0387</td>\n",
       "      <td>-118.2488</td>\n",
       "    </tr>\n",
       "  </tbody>\n",
       "</table>\n",
       "<p>5 rows × 21 columns</p>\n",
       "</div>"
      ],
      "text/plain": [
       "       DR_NO               Date_Rptd   DATE_OCC  TIME_OCC  AREA_  AREA_NAME  \\\n",
       "0    1307355  02/20/2010 12:00:00 AM 2010-02-20      1350     13     Newton   \n",
       "1   11401303  09/13/2010 12:00:00 AM 2010-09-12        45     14    Pacific   \n",
       "2   70309629  08/09/2010 12:00:00 AM 2010-08-09      1515     13     Newton   \n",
       "3   90631215  01/05/2010 12:00:00 AM 2010-01-05       150      6  Hollywood   \n",
       "4  100100501  01/03/2010 12:00:00 AM 2010-01-02      2100      1    Central   \n",
       "\n",
       "   Rpt_Dist_No  Part_1-2  Crm_Cd         Mocodes  ...  Vict_Sex  Vict_Descent  \\\n",
       "0         1385         2     900  0913 1814 2000  ...       1.0           1.0   \n",
       "1         1485         2     740            0329  ...       1.0           2.0   \n",
       "2         1324         2     946            0344  ...       1.0           1.0   \n",
       "3          646         2     900  1100 0400 1402  ...       0.0           2.0   \n",
       "4          176         1     122            0400  ...       0.0           1.0   \n",
       "\n",
       "   Premis_Cd             Premis_Desc Status   Status_Desc Crm_Cd_1  \\\n",
       "0      501.0  SINGLE FAMILY DWELLING     AA  Adult Arrest    900.0   \n",
       "1      101.0                  STREET     IC   Invest Cont    740.0   \n",
       "2      103.0                   ALLEY     IC   Invest Cont    946.0   \n",
       "3      101.0                  STREET     IC   Invest Cont    900.0   \n",
       "4      103.0                   ALLEY     IC   Invest Cont    122.0   \n",
       "\n",
       "                                  LOCATION      LAT       LON  \n",
       "0   300 E  GAGE                         AV  33.9825 -118.2695  \n",
       "1          SEPULVEDA                    BL  33.9599 -118.3962  \n",
       "2  1300 E  21ST                         ST  34.0224 -118.2524  \n",
       "3          CAHUENGA                     BL  34.1016 -118.3295  \n",
       "4          8TH                          ST  34.0387 -118.2488  \n",
       "\n",
       "[5 rows x 21 columns]"
      ]
     },
     "execution_count": 120,
     "metadata": {},
     "output_type": "execute_result"
    }
   ],
   "source": [
    "des = df[\"Vict_Descent\"]\n",
    "new_des = list()\n",
    "for i in des:\n",
    "    if i == 'H':\n",
    "        new_des.append(1)\n",
    "    elif i == \"W\":\n",
    "        new_des.append(2)\n",
    "    elif i == 'O':\n",
    "        new_des.append(0)\n",
    "df['Vict_Descent'] = pd.Series(new_des)\n",
    "df.head()"
   ]
  },
  {
   "cell_type": "code",
   "execution_count": 121,
   "id": "b15989e4",
   "metadata": {},
   "outputs": [],
   "source": [
    "mean_value_des=df['Vict_Descent'].mean()\n",
    "df['Vict_Descent'].fillna(value=mean_value_des, inplace=True)"
   ]
  },
  {
   "cell_type": "code",
   "execution_count": 122,
   "id": "a65aeb6d",
   "metadata": {},
   "outputs": [
    {
     "data": {
      "image/png": "[encoded data removed]",
      "text/plain": [
       "<Figure size 1296x504 with 2 Axes>"
      ]
     },
     "metadata": {},
     "output_type": "display_data"
    }
   ],
   "source": [
    "plt.figure(figsize=[18,7])\n",
    "sns.heatmap(df.corr(),annot=True)\n",
    "plt.show()"
   ]
  },
  {
   "cell_type": "code",
   "execution_count": null,
   "id": "11ee2d63",
   "metadata": {},
   "outputs": [],
   "source": [
    "\n"
   ]
  },
  {
   "cell_type": "code",
   "execution_count": 125,
   "id": "8ae292c4",
   "metadata": {},
   "outputs": [],
   "source": [
    "to_drop =[\"Rpt_Dist_No\",\n",
    "          \"Crm_Cd_1\",\n",
    "          \"Premis_Cd\",\n",
    "          \"Crm_Cd\",\n",
    "          \"Part_1-2\",\n",
    "         \"Date_Rptd\",\n",
    "         \"AREA_NAME\",\n",
    "         \"Mocodes\",\n",
    "         \"Premis_Desc\",\n",
    "         \"Status\"]\n",
    "df.drop(to_drop, inplace=True, axis=1)"
   ]
  },
  {
   "cell_type": "code",
   "execution_count": 126,
   "id": "062a07e6",
   "metadata": {},
   "outputs": [
    {
     "data": {
      "text/html": [
       "<div>\n",
       "<style scoped>\n",
       "    .dataframe tbody tr th:only-of-type {\n",
       "        vertical-align: middle;\n",
       "    }\n",
       "\n",
       "    .dataframe tbody tr th {\n",
       "        vertical-align: top;\n",
       "    }\n",
       "\n",
       "    .dataframe thead th {\n",
       "        text-align: right;\n",
       "    }\n",
       "</style>\n",
       "<table border=\"1\" class=\"dataframe\">\n",
       "  <thead>\n",
       "    <tr style=\"text-align: right;\">\n",
       "      <th></th>\n",
       "      <th>DR_NO</th>\n",
       "      <th>DATE_OCC</th>\n",
       "      <th>TIME_OCC</th>\n",
       "      <th>AREA_</th>\n",
       "      <th>Vict_Age</th>\n",
       "      <th>Vict_Sex</th>\n",
       "      <th>Vict_Descent</th>\n",
       "      <th>Status_Desc</th>\n",
       "      <th>LOCATION</th>\n",
       "      <th>LAT</th>\n",
       "      <th>LON</th>\n",
       "    </tr>\n",
       "  </thead>\n",
       "  <tbody>\n",
       "    <tr>\n",
       "      <th>0</th>\n",
       "      <td>1307355</td>\n",
       "      <td>2010-02-20</td>\n",
       "      <td>1350</td>\n",
       "      <td>13</td>\n",
       "      <td>48.000000</td>\n",
       "      <td>1.0</td>\n",
       "      <td>1.0</td>\n",
       "      <td>Adult Arrest</td>\n",
       "      <td>300 E  GAGE                         AV</td>\n",
       "      <td>33.9825</td>\n",
       "      <td>-118.2695</td>\n",
       "    </tr>\n",
       "    <tr>\n",
       "      <th>1</th>\n",
       "      <td>11401303</td>\n",
       "      <td>2010-09-12</td>\n",
       "      <td>45</td>\n",
       "      <td>14</td>\n",
       "      <td>38.481025</td>\n",
       "      <td>1.0</td>\n",
       "      <td>2.0</td>\n",
       "      <td>Invest Cont</td>\n",
       "      <td>SEPULVEDA                    BL</td>\n",
       "      <td>33.9599</td>\n",
       "      <td>-118.3962</td>\n",
       "    </tr>\n",
       "    <tr>\n",
       "      <th>2</th>\n",
       "      <td>70309629</td>\n",
       "      <td>2010-08-09</td>\n",
       "      <td>1515</td>\n",
       "      <td>13</td>\n",
       "      <td>38.481025</td>\n",
       "      <td>1.0</td>\n",
       "      <td>1.0</td>\n",
       "      <td>Invest Cont</td>\n",
       "      <td>1300 E  21ST                         ST</td>\n",
       "      <td>34.0224</td>\n",
       "      <td>-118.2524</td>\n",
       "    </tr>\n",
       "    <tr>\n",
       "      <th>3</th>\n",
       "      <td>90631215</td>\n",
       "      <td>2010-01-05</td>\n",
       "      <td>150</td>\n",
       "      <td>6</td>\n",
       "      <td>47.000000</td>\n",
       "      <td>0.0</td>\n",
       "      <td>2.0</td>\n",
       "      <td>Invest Cont</td>\n",
       "      <td>CAHUENGA                     BL</td>\n",
       "      <td>34.1016</td>\n",
       "      <td>-118.3295</td>\n",
       "    </tr>\n",
       "    <tr>\n",
       "      <th>4</th>\n",
       "      <td>100100501</td>\n",
       "      <td>2010-01-02</td>\n",
       "      <td>2100</td>\n",
       "      <td>1</td>\n",
       "      <td>47.000000</td>\n",
       "      <td>0.0</td>\n",
       "      <td>1.0</td>\n",
       "      <td>Invest Cont</td>\n",
       "      <td>8TH                          ST</td>\n",
       "      <td>34.0387</td>\n",
       "      <td>-118.2488</td>\n",
       "    </tr>\n",
       "  </tbody>\n",
       "</table>\n",
       "</div>"
      ],
      "text/plain": [
       "       DR_NO   DATE_OCC  TIME_OCC  AREA_   Vict_Age  Vict_Sex  Vict_Descent  \\\n",
       "0    1307355 2010-02-20      1350     13  48.000000       1.0           1.0   \n",
       "1   11401303 2010-09-12        45     14  38.481025       1.0           2.0   \n",
       "2   70309629 2010-08-09      1515     13  38.481025       1.0           1.0   \n",
       "3   90631215 2010-01-05       150      6  47.000000       0.0           2.0   \n",
       "4  100100501 2010-01-02      2100      1  47.000000       0.0           1.0   \n",
       "\n",
       "    Status_Desc                                 LOCATION      LAT       LON  \n",
       "0  Adult Arrest   300 E  GAGE                         AV  33.9825 -118.2695  \n",
       "1   Invest Cont          SEPULVEDA                    BL  33.9599 -118.3962  \n",
       "2   Invest Cont  1300 E  21ST                         ST  34.0224 -118.2524  \n",
       "3   Invest Cont          CAHUENGA                     BL  34.1016 -118.3295  \n",
       "4   Invest Cont          8TH                          ST  34.0387 -118.2488  "
      ]
     },
     "execution_count": 126,
     "metadata": {},
     "output_type": "execute_result"
    }
   ],
   "source": [
    "df.head()"
   ]
  },
  {
   "cell_type": "code",
   "execution_count": 127,
   "id": "d5581580",
   "metadata": {},
   "outputs": [],
   "source": [
    "to_drop =[\"LOCATION\",\n",
    "         \"Status_Desc\",\n",
    "         \"DATE_OCC\"]\n",
    "df.drop(to_drop, inplace=True, axis=1)"
   ]
  },
  {
   "cell_type": "code",
   "execution_count": 128,
   "id": "b0867b05",
   "metadata": {},
   "outputs": [],
   "source": [
    "df['Vict_Sex'] = df['Vict_Sex'].astype(int)\n",
    "df['Vict_Descent'] = df['Vict_Descent'].astype(int)"
   ]
  },
  {
   "cell_type": "code",
   "execution_count": 129,
   "id": "b47a32fe",
   "metadata": {
    "scrolled": true
   },
   "outputs": [
    {
     "data": {
      "image/png": "[encoded data removed]",
      "text/plain": [
       "<Figure size 1296x504 with 2 Axes>"
      ]
     },
     "metadata": {},
     "output_type": "display_data"
    }
   ],
   "source": [
    "plt.figure(figsize=[18,7])\n",
    "sns.heatmap(df.corr(),annot=True)\n",
    "plt.show()"
   ]
  },
  {
   "cell_type": "code",
   "execution_count": 130,
   "id": "5734e066",
   "metadata": {},
   "outputs": [],
   "source": [
    "df = df.dropna()\n",
    "from sklearn.preprocessing import StandardScaler\n",
    "from sklearn.model_selection import train_test_split\n",
    "from sklearn.linear_model import LinearRegressionrRegression\n",
    "\n",
    "X = df.drop('Vict_Sex' ,axis=1)\n",
    "Y = df['Vict_Sex']"
   ]
  },
  {
   "cell_type": "code",
   "execution_count": 131,
   "id": "d476e345",
   "metadata": {},
   "outputs": [
    {
     "data": {
      "text/html": [
       "<div>\n",
       "<style scoped>\n",
       "    .dataframe tbody tr th:only-of-type {\n",
       "        vertical-align: middle;\n",
       "    }\n",
       "\n",
       "    .dataframe tbody tr th {\n",
       "        vertical-align: top;\n",
       "    }\n",
       "\n",
       "    .dataframe thead th {\n",
       "        text-align: right;\n",
       "    }\n",
       "</style>\n",
       "<table border=\"1\" class=\"dataframe\">\n",
       "  <thead>\n",
       "    <tr style=\"text-align: right;\">\n",
       "      <th></th>\n",
       "      <th>DR_NO</th>\n",
       "      <th>TIME_OCC</th>\n",
       "      <th>AREA_</th>\n",
       "      <th>Vict_Age</th>\n",
       "      <th>Vict_Descent</th>\n",
       "      <th>LAT</th>\n",
       "      <th>LON</th>\n",
       "    </tr>\n",
       "  </thead>\n",
       "  <tbody>\n",
       "    <tr>\n",
       "      <th>1532193</th>\n",
       "      <td>170416288</td>\n",
       "      <td>2050</td>\n",
       "      <td>4</td>\n",
       "      <td>49.000000</td>\n",
       "      <td>1</td>\n",
       "      <td>34.0462</td>\n",
       "      <td>-118.2114</td>\n",
       "    </tr>\n",
       "    <tr>\n",
       "      <th>887551</th>\n",
       "      <td>141924646</td>\n",
       "      <td>2200</td>\n",
       "      <td>19</td>\n",
       "      <td>38.481025</td>\n",
       "      <td>1</td>\n",
       "      <td>34.2216</td>\n",
       "      <td>-118.4488</td>\n",
       "    </tr>\n",
       "    <tr>\n",
       "      <th>377134</th>\n",
       "      <td>112010287</td>\n",
       "      <td>700</td>\n",
       "      <td>20</td>\n",
       "      <td>33.000000</td>\n",
       "      <td>0</td>\n",
       "      <td>34.0491</td>\n",
       "      <td>-118.3010</td>\n",
       "    </tr>\n",
       "    <tr>\n",
       "      <th>43743</th>\n",
       "      <td>100519918</td>\n",
       "      <td>200</td>\n",
       "      <td>5</td>\n",
       "      <td>17.000000</td>\n",
       "      <td>0</td>\n",
       "      <td>33.7756</td>\n",
       "      <td>-118.2634</td>\n",
       "    </tr>\n",
       "    <tr>\n",
       "      <th>437088</th>\n",
       "      <td>121608355</td>\n",
       "      <td>1200</td>\n",
       "      <td>16</td>\n",
       "      <td>58.000000</td>\n",
       "      <td>1</td>\n",
       "      <td>34.2598</td>\n",
       "      <td>-118.3281</td>\n",
       "    </tr>\n",
       "    <tr>\n",
       "      <th>...</th>\n",
       "      <td>...</td>\n",
       "      <td>...</td>\n",
       "      <td>...</td>\n",
       "      <td>...</td>\n",
       "      <td>...</td>\n",
       "      <td>...</td>\n",
       "      <td>...</td>\n",
       "    </tr>\n",
       "    <tr>\n",
       "      <th>158389</th>\n",
       "      <td>101716563</td>\n",
       "      <td>900</td>\n",
       "      <td>17</td>\n",
       "      <td>51.000000</td>\n",
       "      <td>2</td>\n",
       "      <td>34.2612</td>\n",
       "      <td>-118.5058</td>\n",
       "    </tr>\n",
       "    <tr>\n",
       "      <th>2006794</th>\n",
       "      <td>191309061</td>\n",
       "      <td>1430</td>\n",
       "      <td>13</td>\n",
       "      <td>35.000000</td>\n",
       "      <td>1</td>\n",
       "      <td>34.0247</td>\n",
       "      <td>-118.2734</td>\n",
       "    </tr>\n",
       "    <tr>\n",
       "      <th>1479214</th>\n",
       "      <td>171006066</td>\n",
       "      <td>1900</td>\n",
       "      <td>10</td>\n",
       "      <td>38.481025</td>\n",
       "      <td>1</td>\n",
       "      <td>34.1723</td>\n",
       "      <td>-118.5123</td>\n",
       "    </tr>\n",
       "    <tr>\n",
       "      <th>2065214</th>\n",
       "      <td>191204800</td>\n",
       "      <td>1</td>\n",
       "      <td>12</td>\n",
       "      <td>37.000000</td>\n",
       "      <td>1</td>\n",
       "      <td>34.0017</td>\n",
       "      <td>-118.2856</td>\n",
       "    </tr>\n",
       "    <tr>\n",
       "      <th>722180</th>\n",
       "      <td>130909810</td>\n",
       "      <td>1515</td>\n",
       "      <td>9</td>\n",
       "      <td>35.000000</td>\n",
       "      <td>1</td>\n",
       "      <td>34.1867</td>\n",
       "      <td>-118.4618</td>\n",
       "    </tr>\n",
       "  </tbody>\n",
       "</table>\n",
       "<p>1905562 rows × 7 columns</p>\n",
       "</div>"
      ],
      "text/plain": [
       "             DR_NO  TIME_OCC  AREA_   Vict_Age  Vict_Descent      LAT  \\\n",
       "1532193  170416288      2050      4  49.000000             1  34.0462   \n",
       "887551   141924646      2200     19  38.481025             1  34.2216   \n",
       "377134   112010287       700     20  33.000000             0  34.0491   \n",
       "43743    100519918       200      5  17.000000             0  33.7756   \n",
       "437088   121608355      1200     16  58.000000             1  34.2598   \n",
       "...            ...       ...    ...        ...           ...      ...   \n",
       "158389   101716563       900     17  51.000000             2  34.2612   \n",
       "2006794  191309061      1430     13  35.000000             1  34.0247   \n",
       "1479214  171006066      1900     10  38.481025             1  34.1723   \n",
       "2065214  191204800         1     12  37.000000             1  34.0017   \n",
       "722180   130909810      1515      9  35.000000             1  34.1867   \n",
       "\n",
       "              LON  \n",
       "1532193 -118.2114  \n",
       "887551  -118.4488  \n",
       "377134  -118.3010  \n",
       "43743   -118.2634  \n",
       "437088  -118.3281  \n",
       "...           ...  \n",
       "158389  -118.5058  \n",
       "2006794 -118.2734  \n",
       "1479214 -118.5123  \n",
       "2065214 -118.2856  \n",
       "722180  -118.4618  \n",
       "\n",
       "[1905562 rows x 7 columns]"
      ]
     },
     "execution_count": 131,
     "metadata": {},
     "output_type": "execute_result"
    }
   ],
   "source": [
    "xtrain,xtest,ytrain,ytest = train_test_split(X,Y,test_size=0.1)\n",
    "xtrain"
   ]
  },
  {
   "cell_type": "code",
   "execution_count": 132,
   "id": "f412f821",
   "metadata": {},
   "outputs": [],
   "source": [
    "from sklearn.tree import DecisionTreeClassifier\n",
    "clf = DecisionTreeClassifier().fit(xtrain, ytrain)"
   ]
  },
  {
   "cell_type": "code",
   "execution_count": 133,
   "id": "ca98d971",
   "metadata": {},
   "outputs": [
    {
     "data": {
      "text/plain": [
       "0.5503471402257593"
      ]
     },
     "execution_count": 133,
     "metadata": {},
     "output_type": "execute_result"
    }
   ],
   "source": [
    "clf.score(xtest, ytest)"
   ]
  },
  {
   "cell_type": "code",
   "execution_count": null,
   "id": "2a32f8fb",
   "metadata": {},
   "outputs": [],
   "source": []
  }
 ],
 "metadata": {
  "kernelspec": {
   "display_name": "Python 3 (ipykernel)",
   "language": "python",
   "name": "python3"
  },
  "language_info": {
   "codemirror_mode": {
    "name": "ipython",
    "version": 3
   },
   "file_extension": ".py",
   "mimetype": "text/x-python",
   "name": "python",
   "nbconvert_exporter": "python",
   "pygments_lexer": "ipython3",
   "version": "3.9.7"
  }
 },
 "nbformat": 4,
 "nbformat_minor": 5
}
